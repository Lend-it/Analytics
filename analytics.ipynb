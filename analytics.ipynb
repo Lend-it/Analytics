{
 "cells": [
  {
   "cell_type": "markdown",
   "metadata": {},
   "source": [
    "# Analytics"
   ]
  },
  {
   "cell_type": "markdown",
   "metadata": {},
   "source": [
    "#### Date: 2020/02\n",
    "\n",
    "#### SUMMARY:\n",
    "\n",
    "- This notebook represents the project quality analysis of the date exposed right above. "
   ]
  },
  {
   "cell_type": "markdown",
   "metadata": {},
   "source": [
    "### TEAM: Lend.it\n",
    "\n",
    "##### Semester: 2020/02\n",
    "##### Professor: Hilmer Neri\n",
    "\n",
    "##### Members:\n",
    "\n",
    "| Nome              | Papel           | E-mail                          |\n",
    "|-------------------|-----------------|---------------------------------|\n",
    "| Rogério Júnior    | Tech Lead       |     junior.rogerio8@gmail.com   |\n",
    "| Ésio Gustavo      | Product Manager |    esio.gustavo@gmail.com       |\n",
    "| Lucas Dutra       | DevOps          |    ldutra98@gmail.com           |\n",
    "| Youssef Muhamad   | Arquiteto       | emaildeyoussefmuhamad@gmail.com |\n",
    "| Mateus Maia       | Desenvolvedor   |     mateusmaiamaia@hotmail.com  |\n",
    "| Matheus Afonso    | Desenvolvedor   |    matheusafonsouza@gmail.com   |\n",
    "| Matheus Monteiro  | Desenvolvedor   | matheusyanmonteiro@gmail.com    |\n",
    "| Thais Rebouças    | Desenvolvedor   | rotinasoftware@gmail.com        |\n",
    "| Thiago Mesquita   | Desenvolvedor   | thiago099carvalho@gmail.com     |\n",
    "| Vinicius Saturnino| Desenvolvedor   | viniciussaturnino78@gmail.com |"
   ]
  },
  {
   "cell_type": "markdown",
   "metadata": {},
   "source": [
    "### LIBRARIES"
   ]
  },
  {
   "cell_type": "code",
   "execution_count": 3,
   "metadata": {},
   "outputs": [],
   "source": [
    "# Deal with data\n",
    "import pandas as pd\n",
    "import numpy as np\n",
    "import json\n",
    "\n",
    "# Deal with API request\n",
    "import urllib3\n",
    "from urllib3 import request\n",
    "\n",
    "# Deal with visualization\n",
    "import seaborn as sns\n",
    "import matplotlib.pyplot as plt"
   ]
  },
  {
   "cell_type": "markdown",
   "metadata": {},
   "source": [
    "### GRAPH SETTINGS"
   ]
  },
  {
   "cell_type": "code",
   "execution_count": 4,
   "metadata": {},
   "outputs": [],
   "source": [
    "%config InlineBackend.figure_format ='retina'\n",
    "sns.set(font_scale=1.5)\n",
    "sns.set_style('darkgrid',\n",
    "              {'xtick.bottom' : True,\n",
    "               'ytick.left': True,\n",
    "               'grid.linestyle':'--',\n",
    "               'font.monospace': ['Computer Modern Typewriter'],\n",
    "               'axes.edgecolor' : 'white'})"
   ]
  },
  {
   "cell_type": "markdown",
   "metadata": {},
   "source": [
    "### DATAFRAME SETTINGS"
   ]
  },
  {
   "cell_type": "code",
   "execution_count": 5,
   "metadata": {},
   "outputs": [],
   "source": [
    "pd.set_option(\"display.max_rows\", None, \"display.max_columns\", None)"
   ]
  },
  {
   "cell_type": "markdown",
   "metadata": {},
   "source": [
    "### SonarCloud"
   ]
  },
  {
   "cell_type": "markdown",
   "metadata": {},
   "source": [
    "#### KEYS"
   ]
  },
  {
   "cell_type": "code",
   "execution_count": 6,
   "metadata": {},
   "outputs": [],
   "source": [
    "request_service = \"Lend-it_Request\"\n",
    "rating_service = \"Lend-it_Rating\"\n",
    "user_service = \"Lend-it_User\"\n",
    "gateway_service = \"Lend-it_Gateway\""
   ]
  },
  {
   "cell_type": "markdown",
   "metadata": {},
   "source": [
    "#### METRICS"
   ]
  },
  {
   "cell_type": "code",
   "execution_count": 7,
   "metadata": {},
   "outputs": [
    {
     "output_type": "execute_result",
     "data": {
      "text/plain": [
       "12"
      ]
     },
     "metadata": {},
     "execution_count": 7
    }
   ],
   "source": [
    "metric_list = ['files',\n",
    "               'functions',\n",
    "               'complexity',\n",
    "               'coverage',\n",
    "               'comment_lines_density',\n",
    "               'duplicated_lines_density',\n",
    "               'security_rating',\n",
    "               'tests',\n",
    "               'test_success_density',\n",
    "               'test_execution_time',\n",
    "               'reliability_rating',\n",
    "                'ncloc']\n",
    "\n",
    "len(metric_list)"
   ]
  },
  {
   "cell_type": "code",
   "execution_count": 8,
   "metadata": {},
   "outputs": [],
   "source": [
    "def generate_metric_string(metric_list):\n",
    "    metric_str = ''\n",
    "    \n",
    "    for metric in metric_list:\n",
    "        metric_str += metric + ','\n",
    "        \n",
    "    return metric_str"
   ]
  },
  {
   "cell_type": "code",
   "execution_count": 9,
   "metadata": {},
   "outputs": [],
   "source": [
    "metric_str = generate_metric_string(metric_list)"
   ]
  },
  {
   "cell_type": "markdown",
   "metadata": {},
   "source": [
    "#### URLS"
   ]
  },
  {
   "cell_type": "code",
   "execution_count": 10,
   "metadata": {},
   "outputs": [],
   "source": [
    "request_url = f\"https://sonarcloud.io/api/measures/component_tree?component={request_service}&metricKeys={metric_str}&ps=500\"\n",
    "rating_url = f\"https://sonarcloud.io/api/measures/component_tree?component={rating_service}&metricKeys={metric_str}&ps=500\"\n",
    "user_url = f\"https://sonarcloud.io/api/measures/component_tree?component={user_service}&metricKeys={metric_str}&ps=500\"\n",
    "gateway_url = f\"https://sonarcloud.io/api/measures/component_tree?component={gateway_service}&metricKeys={metric_str}&ps=500\""
   ]
  },
  {
   "cell_type": "markdown",
   "metadata": {},
   "source": [
    "## JSON options"
   ]
  },
  {
   "cell_type": "markdown",
   "metadata": {},
   "source": [
    "### API REQUEST"
   ]
  },
  {
   "cell_type": "code",
   "execution_count": 11,
   "metadata": {},
   "outputs": [],
   "source": [
    "http = urllib3.PoolManager()"
   ]
  },
  {
   "cell_type": "code",
   "execution_count": 12,
   "metadata": {},
   "outputs": [],
   "source": [
    "request_request = http.request('GET', request_url)\n",
    "rating_request = http.request('GET', rating_url)\n",
    "user_request = http.request('GET', user_url)\n",
    "gateway_request = http.request('GET', gateway_url)"
   ]
  },
  {
   "cell_type": "markdown",
   "metadata": {},
   "source": [
    "#### JSON DECODING"
   ]
  },
  {
   "cell_type": "code",
   "execution_count": 13,
   "metadata": {},
   "outputs": [],
   "source": [
    "request_json = json.loads(request_request.data.decode('utf-8'))\n",
    "rating_json = json.loads(rating_request.data.decode('utf-8'))\n",
    "user_json = json.loads(user_request.data.decode('utf-8'))\n",
    "gateway_json = json.loads(gateway_request.data.decode('utf-8'))"
   ]
  },
  {
   "cell_type": "markdown",
   "metadata": {},
   "source": [
    "### Local files"
   ]
  },
  {
   "cell_type": "code",
   "execution_count": 14,
   "metadata": {},
   "outputs": [],
   "source": [
    "release = \"Raleway\"\n",
    "date = \"13-04-2021\""
   ]
  },
  {
   "cell_type": "code",
   "execution_count": 15,
   "metadata": {},
   "outputs": [],
   "source": [
    "request_json_path = f\"releases/{release}/fga-eps-mds-2020_2-Lend.it-{release}-request-{date}.json\"\n",
    "rating_json_path = f\"releases/{release}/fga-eps-mds-2020_2-Lend.it-{release}-rating-{date}.json\"\n",
    "user_json_path = f\"releases/{release}/fga-eps-mds-2020_2-Lend.it-{release}-user-{date}.json\"\n",
    "gateway_json_path = f\"releases/{release}/fga-eps-mds-2020_2-Lend.it-{release}-gateway-{date}.json\""
   ]
  },
  {
   "cell_type": "code",
   "execution_count": 16,
   "metadata": {},
   "outputs": [],
   "source": [
    "with open(request_json_path) as f:\n",
    "    request_local_json = json.load(f)"
   ]
  },
  {
   "cell_type": "code",
   "execution_count": 17,
   "metadata": {},
   "outputs": [],
   "source": [
    "with open(rating_json_path) as f:\n",
    "    rating_local_json = json.load(f)"
   ]
  },
  {
   "cell_type": "code",
   "execution_count": 18,
   "metadata": {},
   "outputs": [],
   "source": [
    "with open(user_json_path) as f:\n",
    "    user_local_json = json.load(f)"
   ]
  },
  {
   "cell_type": "code",
   "execution_count": 19,
   "metadata": {},
   "outputs": [],
   "source": [
    "with open(gateway_json_path) as f:\n",
    "    gateway_local_json = json.load(f)"
   ]
  },
  {
   "cell_type": "markdown",
   "metadata": {},
   "source": [
    "## DATA"
   ]
  },
  {
   "cell_type": "markdown",
   "metadata": {},
   "source": [
    "### PROJECT"
   ]
  },
  {
   "cell_type": "code",
   "execution_count": 20,
   "metadata": {},
   "outputs": [],
   "source": [
    "project_request_json = request_local_json['baseComponent']['measures']\n",
    "project_rating_json = rating_local_json['baseComponent']['measures']\n",
    "project_user_json = user_local_json['baseComponent']['measures']\n",
    "project_gateway_json = gateway_local_json['baseComponent']['measures']"
   ]
  },
  {
   "cell_type": "code",
   "execution_count": 21,
   "metadata": {},
   "outputs": [],
   "source": [
    "project_request_data = pd.DataFrame(project_request_json)\n",
    "project_rating_data = pd.DataFrame(project_rating_json)\n",
    "project_user_data = pd.DataFrame(project_user_json)\n",
    "project_gateway_data = pd.DataFrame(project_gateway_json)"
   ]
  },
  {
   "cell_type": "markdown",
   "metadata": {},
   "source": [
    "##### Request"
   ]
  },
  {
   "cell_type": "code",
   "execution_count": 22,
   "metadata": {
    "scrolled": true
   },
   "outputs": [
    {
     "output_type": "execute_result",
     "data": {
      "text/plain": [
       "                     metric value bestValue\n",
       "0                complexity    67       NaN\n",
       "1  duplicated_lines_density   0.0      True\n",
       "2                 functions    52       NaN\n",
       "3                     ncloc   816       NaN\n",
       "4        reliability_rating   1.0      True\n",
       "5           security_rating   1.0      True\n",
       "6     comment_lines_density   6.1     False\n",
       "7                     files    15       NaN"
      ],
      "text/html": "<div>\n<style scoped>\n    .dataframe tbody tr th:only-of-type {\n        vertical-align: middle;\n    }\n\n    .dataframe tbody tr th {\n        vertical-align: top;\n    }\n\n    .dataframe thead th {\n        text-align: right;\n    }\n</style>\n<table border=\"1\" class=\"dataframe\">\n  <thead>\n    <tr style=\"text-align: right;\">\n      <th></th>\n      <th>metric</th>\n      <th>value</th>\n      <th>bestValue</th>\n    </tr>\n  </thead>\n  <tbody>\n    <tr>\n      <th>0</th>\n      <td>complexity</td>\n      <td>67</td>\n      <td>NaN</td>\n    </tr>\n    <tr>\n      <th>1</th>\n      <td>duplicated_lines_density</td>\n      <td>0.0</td>\n      <td>True</td>\n    </tr>\n    <tr>\n      <th>2</th>\n      <td>functions</td>\n      <td>52</td>\n      <td>NaN</td>\n    </tr>\n    <tr>\n      <th>3</th>\n      <td>ncloc</td>\n      <td>816</td>\n      <td>NaN</td>\n    </tr>\n    <tr>\n      <th>4</th>\n      <td>reliability_rating</td>\n      <td>1.0</td>\n      <td>True</td>\n    </tr>\n    <tr>\n      <th>5</th>\n      <td>security_rating</td>\n      <td>1.0</td>\n      <td>True</td>\n    </tr>\n    <tr>\n      <th>6</th>\n      <td>comment_lines_density</td>\n      <td>6.1</td>\n      <td>False</td>\n    </tr>\n    <tr>\n      <th>7</th>\n      <td>files</td>\n      <td>15</td>\n      <td>NaN</td>\n    </tr>\n  </tbody>\n</table>\n</div>"
     },
     "metadata": {},
     "execution_count": 22
    }
   ],
   "source": [
    "project_request_data"
   ]
  },
  {
   "cell_type": "markdown",
   "metadata": {},
   "source": [
    "##### Rating"
   ]
  },
  {
   "cell_type": "code",
   "execution_count": 23,
   "metadata": {
    "scrolled": false
   },
   "outputs": [
    {
     "output_type": "execute_result",
     "data": {
      "text/plain": [
       "                     metric value bestValue\n",
       "0                complexity    29       NaN\n",
       "1  duplicated_lines_density   0.0      True\n",
       "2                 functions    22       NaN\n",
       "3                     ncloc   238       NaN\n",
       "4        reliability_rating   1.0      True\n",
       "5           security_rating   1.0      True\n",
       "6     comment_lines_density  18.2     False\n",
       "7                     files    11       NaN"
      ],
      "text/html": "<div>\n<style scoped>\n    .dataframe tbody tr th:only-of-type {\n        vertical-align: middle;\n    }\n\n    .dataframe tbody tr th {\n        vertical-align: top;\n    }\n\n    .dataframe thead th {\n        text-align: right;\n    }\n</style>\n<table border=\"1\" class=\"dataframe\">\n  <thead>\n    <tr style=\"text-align: right;\">\n      <th></th>\n      <th>metric</th>\n      <th>value</th>\n      <th>bestValue</th>\n    </tr>\n  </thead>\n  <tbody>\n    <tr>\n      <th>0</th>\n      <td>complexity</td>\n      <td>29</td>\n      <td>NaN</td>\n    </tr>\n    <tr>\n      <th>1</th>\n      <td>duplicated_lines_density</td>\n      <td>0.0</td>\n      <td>True</td>\n    </tr>\n    <tr>\n      <th>2</th>\n      <td>functions</td>\n      <td>22</td>\n      <td>NaN</td>\n    </tr>\n    <tr>\n      <th>3</th>\n      <td>ncloc</td>\n      <td>238</td>\n      <td>NaN</td>\n    </tr>\n    <tr>\n      <th>4</th>\n      <td>reliability_rating</td>\n      <td>1.0</td>\n      <td>True</td>\n    </tr>\n    <tr>\n      <th>5</th>\n      <td>security_rating</td>\n      <td>1.0</td>\n      <td>True</td>\n    </tr>\n    <tr>\n      <th>6</th>\n      <td>comment_lines_density</td>\n      <td>18.2</td>\n      <td>False</td>\n    </tr>\n    <tr>\n      <th>7</th>\n      <td>files</td>\n      <td>11</td>\n      <td>NaN</td>\n    </tr>\n  </tbody>\n</table>\n</div>"
     },
     "metadata": {},
     "execution_count": 23
    }
   ],
   "source": [
    "project_rating_data"
   ]
  },
  {
   "cell_type": "markdown",
   "metadata": {},
   "source": [
    "##### User"
   ]
  },
  {
   "cell_type": "code",
   "execution_count": 24,
   "metadata": {},
   "outputs": [
    {
     "output_type": "execute_result",
     "data": {
      "text/plain": [
       "                     metric value bestValue\n",
       "0                complexity    36       NaN\n",
       "1  duplicated_lines_density   0.0      True\n",
       "2                 functions    20       NaN\n",
       "3                     ncloc   354       NaN\n",
       "4        reliability_rating   1.0      True\n",
       "5           security_rating   1.0      True\n",
       "6     comment_lines_density   0.0     False\n",
       "7                     files    14       NaN"
      ],
      "text/html": "<div>\n<style scoped>\n    .dataframe tbody tr th:only-of-type {\n        vertical-align: middle;\n    }\n\n    .dataframe tbody tr th {\n        vertical-align: top;\n    }\n\n    .dataframe thead th {\n        text-align: right;\n    }\n</style>\n<table border=\"1\" class=\"dataframe\">\n  <thead>\n    <tr style=\"text-align: right;\">\n      <th></th>\n      <th>metric</th>\n      <th>value</th>\n      <th>bestValue</th>\n    </tr>\n  </thead>\n  <tbody>\n    <tr>\n      <th>0</th>\n      <td>complexity</td>\n      <td>36</td>\n      <td>NaN</td>\n    </tr>\n    <tr>\n      <th>1</th>\n      <td>duplicated_lines_density</td>\n      <td>0.0</td>\n      <td>True</td>\n    </tr>\n    <tr>\n      <th>2</th>\n      <td>functions</td>\n      <td>20</td>\n      <td>NaN</td>\n    </tr>\n    <tr>\n      <th>3</th>\n      <td>ncloc</td>\n      <td>354</td>\n      <td>NaN</td>\n    </tr>\n    <tr>\n      <th>4</th>\n      <td>reliability_rating</td>\n      <td>1.0</td>\n      <td>True</td>\n    </tr>\n    <tr>\n      <th>5</th>\n      <td>security_rating</td>\n      <td>1.0</td>\n      <td>True</td>\n    </tr>\n    <tr>\n      <th>6</th>\n      <td>comment_lines_density</td>\n      <td>0.0</td>\n      <td>False</td>\n    </tr>\n    <tr>\n      <th>7</th>\n      <td>files</td>\n      <td>14</td>\n      <td>NaN</td>\n    </tr>\n  </tbody>\n</table>\n</div>"
     },
     "metadata": {},
     "execution_count": 24
    }
   ],
   "source": [
    "project_user_data"
   ]
  },
  {
   "cell_type": "markdown",
   "metadata": {},
   "source": [
    "##### Gateway"
   ]
  },
  {
   "cell_type": "code",
   "execution_count": 25,
   "metadata": {},
   "outputs": [
    {
     "output_type": "execute_result",
     "data": {
      "text/plain": [
       "                     metric value bestValue\n",
       "0                complexity    40       NaN\n",
       "1  duplicated_lines_density   0.0      True\n",
       "2                 functions    30       NaN\n",
       "3                     ncloc   216       NaN\n",
       "4        reliability_rating   1.0      True\n",
       "5           security_rating   3.0     False\n",
       "6     comment_lines_density   0.0     False\n",
       "7                     files    11       NaN"
      ],
      "text/html": "<div>\n<style scoped>\n    .dataframe tbody tr th:only-of-type {\n        vertical-align: middle;\n    }\n\n    .dataframe tbody tr th {\n        vertical-align: top;\n    }\n\n    .dataframe thead th {\n        text-align: right;\n    }\n</style>\n<table border=\"1\" class=\"dataframe\">\n  <thead>\n    <tr style=\"text-align: right;\">\n      <th></th>\n      <th>metric</th>\n      <th>value</th>\n      <th>bestValue</th>\n    </tr>\n  </thead>\n  <tbody>\n    <tr>\n      <th>0</th>\n      <td>complexity</td>\n      <td>40</td>\n      <td>NaN</td>\n    </tr>\n    <tr>\n      <th>1</th>\n      <td>duplicated_lines_density</td>\n      <td>0.0</td>\n      <td>True</td>\n    </tr>\n    <tr>\n      <th>2</th>\n      <td>functions</td>\n      <td>30</td>\n      <td>NaN</td>\n    </tr>\n    <tr>\n      <th>3</th>\n      <td>ncloc</td>\n      <td>216</td>\n      <td>NaN</td>\n    </tr>\n    <tr>\n      <th>4</th>\n      <td>reliability_rating</td>\n      <td>1.0</td>\n      <td>True</td>\n    </tr>\n    <tr>\n      <th>5</th>\n      <td>security_rating</td>\n      <td>3.0</td>\n      <td>False</td>\n    </tr>\n    <tr>\n      <th>6</th>\n      <td>comment_lines_density</td>\n      <td>0.0</td>\n      <td>False</td>\n    </tr>\n    <tr>\n      <th>7</th>\n      <td>files</td>\n      <td>11</td>\n      <td>NaN</td>\n    </tr>\n  </tbody>\n</table>\n</div>"
     },
     "metadata": {},
     "execution_count": 25
    }
   ],
   "source": [
    "project_gateway_data"
   ]
  },
  {
   "cell_type": "markdown",
   "metadata": {},
   "source": [
    "### FILES"
   ]
  },
  {
   "cell_type": "code",
   "execution_count": 26,
   "metadata": {},
   "outputs": [],
   "source": [
    "def metric_per_file(json):\n",
    "    file_json = []\n",
    "    \n",
    "    for component in json['components']:\n",
    "        if component['qualifier'] == 'FIL':\n",
    "            file_json.append(component)\n",
    "            \n",
    "    return file_json"
   ]
  },
  {
   "cell_type": "code",
   "execution_count": 27,
   "metadata": {},
   "outputs": [],
   "source": [
    "request_file_json = metric_per_file(request_local_json)\n",
    "rating_file_json = metric_per_file(rating_local_json)\n",
    "user_file_json = metric_per_file(user_local_json)\n",
    "gateway_file_json = metric_per_file(gateway_local_json)"
   ]
  },
  {
   "cell_type": "code",
   "execution_count": 28,
   "metadata": {},
   "outputs": [],
   "source": [
    "def generate_file_dataframe(metric_list, json, language_extension):\n",
    "    df_columns = metric_list\n",
    "    df = pd.DataFrame(columns = df_columns)\n",
    "    \n",
    "    for file in json:\n",
    "        try:\n",
    "            if file['language'] == language_extension:\n",
    "                for measure in file['measures']:\n",
    "                    df.at[file['path'], measure['metric']] = measure['value']\n",
    "        except:\n",
    "            pass\n",
    "        \n",
    "    df.reset_index(inplace = True)\n",
    "    df = df.rename({'index': 'path'}, axis=1).drop(['files'], axis=1)\n",
    "\n",
    "    return df"
   ]
  },
  {
   "cell_type": "code",
   "execution_count": 29,
   "metadata": {},
   "outputs": [],
   "source": [
    "request_files_data = generate_file_dataframe(metric_list, request_file_json, language_extension = 'py')\n",
    "rating_files_data = generate_file_dataframe(metric_list, rating_file_json, language_extension = 'py')\n",
    "user_files_data = generate_file_dataframe(metric_list, user_file_json, language_extension = 'js')\n",
    "gateway_files_data = generate_file_dataframe(metric_list, gateway_file_json, language_extension = 'js')"
   ]
  },
  {
   "cell_type": "markdown",
   "metadata": {},
   "source": [
    "##### Request"
   ]
  },
  {
   "cell_type": "code",
   "execution_count": 30,
   "metadata": {},
   "outputs": [
    {
     "output_type": "execute_result",
     "data": {
      "text/plain": [
       "                                                 path functions complexity  \\\n",
       "0   migrations/versions/61cd8752746f_migration_dat...         2          2   \n",
       "1                                 project/__init__.py         2          2   \n",
       "2                             project/api/__init__.py         0          0   \n",
       "3                           project/tests/__init__.py         0          0   \n",
       "4                               project/tests/base.py         3          3   \n",
       "5                                   project/config.py         0          0   \n",
       "6                                   migrations/env.py         3          6   \n",
       "7                                           manage.py         3          6   \n",
       "8                               project/api/models.py         4          4   \n",
       "9                        project/tests/test_config.py         6          7   \n",
       "10             project/tests/test_product_category.py         3          3   \n",
       "11                      project/tests/test_request.py        14         14   \n",
       "12                               project/api/utils.py         1          2   \n",
       "13                             project/tests/utils.py         2          2   \n",
       "14                               project/api/views.py         9         16   \n",
       "\n",
       "   coverage comment_lines_density duplicated_lines_density security_rating  \\\n",
       "0       NaN                  20.0                      0.0             1.0   \n",
       "1       NaN                  13.0                      0.0             1.0   \n",
       "2       NaN                   NaN                      0.0             1.0   \n",
       "3       NaN                   NaN                      0.0             1.0   \n",
       "4       NaN                   0.0                      0.0             1.0   \n",
       "5       NaN                  16.7                      0.0             1.0   \n",
       "6       NaN                  45.1                      0.0             1.0   \n",
       "7       NaN                   7.7                      0.0             1.0   \n",
       "8       NaN                   0.0                      0.0             1.0   \n",
       "9       NaN                   0.0                      0.0             1.0   \n",
       "10      NaN                   0.0                      0.0             1.0   \n",
       "11      NaN                   0.0                      0.0             1.0   \n",
       "12      NaN                   0.0                      0.0             1.0   \n",
       "13      NaN                   0.0                      0.0             1.0   \n",
       "14      NaN                   0.0                      0.0             1.0   \n",
       "\n",
       "   tests test_success_density test_execution_time reliability_rating ncloc  \n",
       "0    NaN                100.0                 NaN                1.0    44  \n",
       "1    NaN                100.0                 NaN                1.0    20  \n",
       "2    NaN                100.0                 NaN                1.0     0  \n",
       "3    NaN                100.0                 NaN                1.0     0  \n",
       "4    NaN                100.0                 NaN                1.0    14  \n",
       "5    NaN                100.0                 NaN                1.0    15  \n",
       "6    NaN                100.0                 NaN                1.0    39  \n",
       "7    NaN                100.0                 NaN                1.0    48  \n",
       "8    NaN                100.0                 NaN                1.0    61  \n",
       "9    NaN                100.0                 NaN                1.0    36  \n",
       "10   NaN                100.0                 NaN                1.0    42  \n",
       "11   NaN                100.0                 NaN                1.0   272  \n",
       "12   NaN                100.0                 NaN                1.0     7  \n",
       "13   NaN                100.0                 NaN                1.0    29  \n",
       "14   NaN                100.0                 NaN                1.0   189  "
      ],
      "text/html": "<div>\n<style scoped>\n    .dataframe tbody tr th:only-of-type {\n        vertical-align: middle;\n    }\n\n    .dataframe tbody tr th {\n        vertical-align: top;\n    }\n\n    .dataframe thead th {\n        text-align: right;\n    }\n</style>\n<table border=\"1\" class=\"dataframe\">\n  <thead>\n    <tr style=\"text-align: right;\">\n      <th></th>\n      <th>path</th>\n      <th>functions</th>\n      <th>complexity</th>\n      <th>coverage</th>\n      <th>comment_lines_density</th>\n      <th>duplicated_lines_density</th>\n      <th>security_rating</th>\n      <th>tests</th>\n      <th>test_success_density</th>\n      <th>test_execution_time</th>\n      <th>reliability_rating</th>\n      <th>ncloc</th>\n    </tr>\n  </thead>\n  <tbody>\n    <tr>\n      <th>0</th>\n      <td>migrations/versions/61cd8752746f_migration_dat...</td>\n      <td>2</td>\n      <td>2</td>\n      <td>NaN</td>\n      <td>20.0</td>\n      <td>0.0</td>\n      <td>1.0</td>\n      <td>NaN</td>\n      <td>100.0</td>\n      <td>NaN</td>\n      <td>1.0</td>\n      <td>44</td>\n    </tr>\n    <tr>\n      <th>1</th>\n      <td>project/__init__.py</td>\n      <td>2</td>\n      <td>2</td>\n      <td>NaN</td>\n      <td>13.0</td>\n      <td>0.0</td>\n      <td>1.0</td>\n      <td>NaN</td>\n      <td>100.0</td>\n      <td>NaN</td>\n      <td>1.0</td>\n      <td>20</td>\n    </tr>\n    <tr>\n      <th>2</th>\n      <td>project/api/__init__.py</td>\n      <td>0</td>\n      <td>0</td>\n      <td>NaN</td>\n      <td>NaN</td>\n      <td>0.0</td>\n      <td>1.0</td>\n      <td>NaN</td>\n      <td>100.0</td>\n      <td>NaN</td>\n      <td>1.0</td>\n      <td>0</td>\n    </tr>\n    <tr>\n      <th>3</th>\n      <td>project/tests/__init__.py</td>\n      <td>0</td>\n      <td>0</td>\n      <td>NaN</td>\n      <td>NaN</td>\n      <td>0.0</td>\n      <td>1.0</td>\n      <td>NaN</td>\n      <td>100.0</td>\n      <td>NaN</td>\n      <td>1.0</td>\n      <td>0</td>\n    </tr>\n    <tr>\n      <th>4</th>\n      <td>project/tests/base.py</td>\n      <td>3</td>\n      <td>3</td>\n      <td>NaN</td>\n      <td>0.0</td>\n      <td>0.0</td>\n      <td>1.0</td>\n      <td>NaN</td>\n      <td>100.0</td>\n      <td>NaN</td>\n      <td>1.0</td>\n      <td>14</td>\n    </tr>\n    <tr>\n      <th>5</th>\n      <td>project/config.py</td>\n      <td>0</td>\n      <td>0</td>\n      <td>NaN</td>\n      <td>16.7</td>\n      <td>0.0</td>\n      <td>1.0</td>\n      <td>NaN</td>\n      <td>100.0</td>\n      <td>NaN</td>\n      <td>1.0</td>\n      <td>15</td>\n    </tr>\n    <tr>\n      <th>6</th>\n      <td>migrations/env.py</td>\n      <td>3</td>\n      <td>6</td>\n      <td>NaN</td>\n      <td>45.1</td>\n      <td>0.0</td>\n      <td>1.0</td>\n      <td>NaN</td>\n      <td>100.0</td>\n      <td>NaN</td>\n      <td>1.0</td>\n      <td>39</td>\n    </tr>\n    <tr>\n      <th>7</th>\n      <td>manage.py</td>\n      <td>3</td>\n      <td>6</td>\n      <td>NaN</td>\n      <td>7.7</td>\n      <td>0.0</td>\n      <td>1.0</td>\n      <td>NaN</td>\n      <td>100.0</td>\n      <td>NaN</td>\n      <td>1.0</td>\n      <td>48</td>\n    </tr>\n    <tr>\n      <th>8</th>\n      <td>project/api/models.py</td>\n      <td>4</td>\n      <td>4</td>\n      <td>NaN</td>\n      <td>0.0</td>\n      <td>0.0</td>\n      <td>1.0</td>\n      <td>NaN</td>\n      <td>100.0</td>\n      <td>NaN</td>\n      <td>1.0</td>\n      <td>61</td>\n    </tr>\n    <tr>\n      <th>9</th>\n      <td>project/tests/test_config.py</td>\n      <td>6</td>\n      <td>7</td>\n      <td>NaN</td>\n      <td>0.0</td>\n      <td>0.0</td>\n      <td>1.0</td>\n      <td>NaN</td>\n      <td>100.0</td>\n      <td>NaN</td>\n      <td>1.0</td>\n      <td>36</td>\n    </tr>\n    <tr>\n      <th>10</th>\n      <td>project/tests/test_product_category.py</td>\n      <td>3</td>\n      <td>3</td>\n      <td>NaN</td>\n      <td>0.0</td>\n      <td>0.0</td>\n      <td>1.0</td>\n      <td>NaN</td>\n      <td>100.0</td>\n      <td>NaN</td>\n      <td>1.0</td>\n      <td>42</td>\n    </tr>\n    <tr>\n      <th>11</th>\n      <td>project/tests/test_request.py</td>\n      <td>14</td>\n      <td>14</td>\n      <td>NaN</td>\n      <td>0.0</td>\n      <td>0.0</td>\n      <td>1.0</td>\n      <td>NaN</td>\n      <td>100.0</td>\n      <td>NaN</td>\n      <td>1.0</td>\n      <td>272</td>\n    </tr>\n    <tr>\n      <th>12</th>\n      <td>project/api/utils.py</td>\n      <td>1</td>\n      <td>2</td>\n      <td>NaN</td>\n      <td>0.0</td>\n      <td>0.0</td>\n      <td>1.0</td>\n      <td>NaN</td>\n      <td>100.0</td>\n      <td>NaN</td>\n      <td>1.0</td>\n      <td>7</td>\n    </tr>\n    <tr>\n      <th>13</th>\n      <td>project/tests/utils.py</td>\n      <td>2</td>\n      <td>2</td>\n      <td>NaN</td>\n      <td>0.0</td>\n      <td>0.0</td>\n      <td>1.0</td>\n      <td>NaN</td>\n      <td>100.0</td>\n      <td>NaN</td>\n      <td>1.0</td>\n      <td>29</td>\n    </tr>\n    <tr>\n      <th>14</th>\n      <td>project/api/views.py</td>\n      <td>9</td>\n      <td>16</td>\n      <td>NaN</td>\n      <td>0.0</td>\n      <td>0.0</td>\n      <td>1.0</td>\n      <td>NaN</td>\n      <td>100.0</td>\n      <td>NaN</td>\n      <td>1.0</td>\n      <td>189</td>\n    </tr>\n  </tbody>\n</table>\n</div>"
     },
     "metadata": {},
     "execution_count": 30
    }
   ],
   "source": [
    "request_files_data"
   ]
  },
  {
   "cell_type": "markdown",
   "metadata": {},
   "source": [
    "##### Rating"
   ]
  },
  {
   "cell_type": "code",
   "execution_count": 31,
   "metadata": {
    "scrolled": true
   },
   "outputs": [
    {
     "output_type": "execute_result",
     "data": {
      "text/plain": [
       "                                        path functions complexity coverage  \\\n",
       "0                        project/__init__.py         2          2      NaN   \n",
       "1                    project/api/__init__.py         0          0      NaN   \n",
       "2                  project/tests/__init__.py         0          0      NaN   \n",
       "3                      project/tests/base.py         3          3      NaN   \n",
       "4                          project/config.py         0          0      NaN   \n",
       "5                          migrations/env.py         3          6      NaN   \n",
       "6   migrations/versions/f88b9890ed2a_v1_0.py         2          2      NaN   \n",
       "7                                  manage.py         3          6      NaN   \n",
       "8                      project/api/models.py         2          2      NaN   \n",
       "9               project/tests/test_config.py         6          7      NaN   \n",
       "10                      project/api/views.py         1          1      NaN   \n",
       "\n",
       "   comment_lines_density duplicated_lines_density security_rating tests  \\\n",
       "0                   14.3                      0.0             1.0   NaN   \n",
       "1                    NaN                      0.0             1.0   NaN   \n",
       "2                    NaN                      0.0             1.0   NaN   \n",
       "3                    0.0                      0.0             1.0   NaN   \n",
       "4                   16.7                      0.0             1.0   NaN   \n",
       "5                   45.1                      0.0             1.0   NaN   \n",
       "6                   26.8                      0.0             1.0   NaN   \n",
       "7                    7.8                      0.0             1.0   NaN   \n",
       "8                    0.0                      0.0             1.0   NaN   \n",
       "9                    0.0                      0.0             1.0   NaN   \n",
       "10                   0.0                      0.0             1.0   NaN   \n",
       "\n",
       "   test_success_density test_execution_time reliability_rating ncloc  \n",
       "0                 100.0                 NaN                1.0    18  \n",
       "1                 100.0                 NaN                1.0     0  \n",
       "2                 100.0                 NaN                1.0     0  \n",
       "3                 100.0                 NaN                1.0    14  \n",
       "4                 100.0                 NaN                1.0    15  \n",
       "5                 100.0                 NaN                1.0    39  \n",
       "6                 100.0                 NaN                1.0    30  \n",
       "7                 100.0                 NaN                1.0    47  \n",
       "8                 100.0                 NaN                1.0    27  \n",
       "9                 100.0                 NaN                1.0    36  \n",
       "10                100.0                 NaN                1.0    12  "
      ],
      "text/html": "<div>\n<style scoped>\n    .dataframe tbody tr th:only-of-type {\n        vertical-align: middle;\n    }\n\n    .dataframe tbody tr th {\n        vertical-align: top;\n    }\n\n    .dataframe thead th {\n        text-align: right;\n    }\n</style>\n<table border=\"1\" class=\"dataframe\">\n  <thead>\n    <tr style=\"text-align: right;\">\n      <th></th>\n      <th>path</th>\n      <th>functions</th>\n      <th>complexity</th>\n      <th>coverage</th>\n      <th>comment_lines_density</th>\n      <th>duplicated_lines_density</th>\n      <th>security_rating</th>\n      <th>tests</th>\n      <th>test_success_density</th>\n      <th>test_execution_time</th>\n      <th>reliability_rating</th>\n      <th>ncloc</th>\n    </tr>\n  </thead>\n  <tbody>\n    <tr>\n      <th>0</th>\n      <td>project/__init__.py</td>\n      <td>2</td>\n      <td>2</td>\n      <td>NaN</td>\n      <td>14.3</td>\n      <td>0.0</td>\n      <td>1.0</td>\n      <td>NaN</td>\n      <td>100.0</td>\n      <td>NaN</td>\n      <td>1.0</td>\n      <td>18</td>\n    </tr>\n    <tr>\n      <th>1</th>\n      <td>project/api/__init__.py</td>\n      <td>0</td>\n      <td>0</td>\n      <td>NaN</td>\n      <td>NaN</td>\n      <td>0.0</td>\n      <td>1.0</td>\n      <td>NaN</td>\n      <td>100.0</td>\n      <td>NaN</td>\n      <td>1.0</td>\n      <td>0</td>\n    </tr>\n    <tr>\n      <th>2</th>\n      <td>project/tests/__init__.py</td>\n      <td>0</td>\n      <td>0</td>\n      <td>NaN</td>\n      <td>NaN</td>\n      <td>0.0</td>\n      <td>1.0</td>\n      <td>NaN</td>\n      <td>100.0</td>\n      <td>NaN</td>\n      <td>1.0</td>\n      <td>0</td>\n    </tr>\n    <tr>\n      <th>3</th>\n      <td>project/tests/base.py</td>\n      <td>3</td>\n      <td>3</td>\n      <td>NaN</td>\n      <td>0.0</td>\n      <td>0.0</td>\n      <td>1.0</td>\n      <td>NaN</td>\n      <td>100.0</td>\n      <td>NaN</td>\n      <td>1.0</td>\n      <td>14</td>\n    </tr>\n    <tr>\n      <th>4</th>\n      <td>project/config.py</td>\n      <td>0</td>\n      <td>0</td>\n      <td>NaN</td>\n      <td>16.7</td>\n      <td>0.0</td>\n      <td>1.0</td>\n      <td>NaN</td>\n      <td>100.0</td>\n      <td>NaN</td>\n      <td>1.0</td>\n      <td>15</td>\n    </tr>\n    <tr>\n      <th>5</th>\n      <td>migrations/env.py</td>\n      <td>3</td>\n      <td>6</td>\n      <td>NaN</td>\n      <td>45.1</td>\n      <td>0.0</td>\n      <td>1.0</td>\n      <td>NaN</td>\n      <td>100.0</td>\n      <td>NaN</td>\n      <td>1.0</td>\n      <td>39</td>\n    </tr>\n    <tr>\n      <th>6</th>\n      <td>migrations/versions/f88b9890ed2a_v1_0.py</td>\n      <td>2</td>\n      <td>2</td>\n      <td>NaN</td>\n      <td>26.8</td>\n      <td>0.0</td>\n      <td>1.0</td>\n      <td>NaN</td>\n      <td>100.0</td>\n      <td>NaN</td>\n      <td>1.0</td>\n      <td>30</td>\n    </tr>\n    <tr>\n      <th>7</th>\n      <td>manage.py</td>\n      <td>3</td>\n      <td>6</td>\n      <td>NaN</td>\n      <td>7.8</td>\n      <td>0.0</td>\n      <td>1.0</td>\n      <td>NaN</td>\n      <td>100.0</td>\n      <td>NaN</td>\n      <td>1.0</td>\n      <td>47</td>\n    </tr>\n    <tr>\n      <th>8</th>\n      <td>project/api/models.py</td>\n      <td>2</td>\n      <td>2</td>\n      <td>NaN</td>\n      <td>0.0</td>\n      <td>0.0</td>\n      <td>1.0</td>\n      <td>NaN</td>\n      <td>100.0</td>\n      <td>NaN</td>\n      <td>1.0</td>\n      <td>27</td>\n    </tr>\n    <tr>\n      <th>9</th>\n      <td>project/tests/test_config.py</td>\n      <td>6</td>\n      <td>7</td>\n      <td>NaN</td>\n      <td>0.0</td>\n      <td>0.0</td>\n      <td>1.0</td>\n      <td>NaN</td>\n      <td>100.0</td>\n      <td>NaN</td>\n      <td>1.0</td>\n      <td>36</td>\n    </tr>\n    <tr>\n      <th>10</th>\n      <td>project/api/views.py</td>\n      <td>1</td>\n      <td>1</td>\n      <td>NaN</td>\n      <td>0.0</td>\n      <td>0.0</td>\n      <td>1.0</td>\n      <td>NaN</td>\n      <td>100.0</td>\n      <td>NaN</td>\n      <td>1.0</td>\n      <td>12</td>\n    </tr>\n  </tbody>\n</table>\n</div>"
     },
     "metadata": {},
     "execution_count": 31
    }
   ],
   "source": [
    "rating_files_data"
   ]
  },
  {
   "cell_type": "markdown",
   "metadata": {},
   "source": [
    "##### User"
   ]
  },
  {
   "cell_type": "code",
   "execution_count": 32,
   "metadata": {},
   "outputs": [
    {
     "output_type": "execute_result",
     "data": {
      "text/plain": [
       "                                    path functions complexity coverage  \\\n",
       "0                             src/app.js         3          3      NaN   \n",
       "1                   src/services/auth.js         1          1      NaN   \n",
       "2                src/middlewares/auth.js         2          6      NaN   \n",
       "3                 src/config/database.js         0          0      NaN   \n",
       "4                      src/utils/file.js         1          1      NaN   \n",
       "5                        src/db/index.js         3          3      NaN   \n",
       "6                          src/routes.js         0          0      NaN   \n",
       "7                          src/server.js         0          1      NaN   \n",
       "8           src/routes/session.routes.js         0          0      NaN   \n",
       "9   src/controllers/SessionController.js         1          3      NaN   \n",
       "10                  src/config/upload.js         2          2      NaN   \n",
       "11                    src/models/User.js         1          1      NaN   \n",
       "12             src/routes/user.routes.js         0          0      NaN   \n",
       "13     src/controllers/UserController.js         6         15      NaN   \n",
       "\n",
       "   comment_lines_density duplicated_lines_density security_rating tests  \\\n",
       "0                    0.0                      0.0             1.0   NaN   \n",
       "1                    0.0                      0.0             1.0   NaN   \n",
       "2                    0.0                      0.0             1.0   NaN   \n",
       "3                    0.0                      0.0             1.0   NaN   \n",
       "4                    0.0                      0.0             1.0   NaN   \n",
       "5                    0.0                      0.0             1.0   NaN   \n",
       "6                    0.0                      0.0             1.0   NaN   \n",
       "7                    0.0                      0.0             1.0   NaN   \n",
       "8                    0.0                      0.0             1.0   NaN   \n",
       "9                    0.0                      0.0             1.0   NaN   \n",
       "10                   0.0                      0.0             1.0   NaN   \n",
       "11                   0.0                      0.0             1.0   NaN   \n",
       "12                   0.0                      0.0             1.0   NaN   \n",
       "13                   0.0                      0.0             1.0   NaN   \n",
       "\n",
       "   test_success_density test_execution_time reliability_rating ncloc  \n",
       "0                 100.0                 NaN                1.0    16  \n",
       "1                 100.0                 NaN                1.0     7  \n",
       "2                 100.0                 NaN                1.0    23  \n",
       "3                 100.0                 NaN                1.0    44  \n",
       "4                 100.0                 NaN                1.0     9  \n",
       "5                 100.0                 NaN                1.0    18  \n",
       "6                 100.0                 NaN                1.0     7  \n",
       "7                 100.0                 NaN                1.0     8  \n",
       "8                 100.0                 NaN                1.0     5  \n",
       "9                 100.0                 NaN                1.0    22  \n",
       "10                100.0                 NaN                1.0    18  \n",
       "11                100.0                 NaN                1.0    27  \n",
       "12                100.0                 NaN                1.0    18  \n",
       "13                100.0                 NaN                1.0   132  "
      ],
      "text/html": "<div>\n<style scoped>\n    .dataframe tbody tr th:only-of-type {\n        vertical-align: middle;\n    }\n\n    .dataframe tbody tr th {\n        vertical-align: top;\n    }\n\n    .dataframe thead th {\n        text-align: right;\n    }\n</style>\n<table border=\"1\" class=\"dataframe\">\n  <thead>\n    <tr style=\"text-align: right;\">\n      <th></th>\n      <th>path</th>\n      <th>functions</th>\n      <th>complexity</th>\n      <th>coverage</th>\n      <th>comment_lines_density</th>\n      <th>duplicated_lines_density</th>\n      <th>security_rating</th>\n      <th>tests</th>\n      <th>test_success_density</th>\n      <th>test_execution_time</th>\n      <th>reliability_rating</th>\n      <th>ncloc</th>\n    </tr>\n  </thead>\n  <tbody>\n    <tr>\n      <th>0</th>\n      <td>src/app.js</td>\n      <td>3</td>\n      <td>3</td>\n      <td>NaN</td>\n      <td>0.0</td>\n      <td>0.0</td>\n      <td>1.0</td>\n      <td>NaN</td>\n      <td>100.0</td>\n      <td>NaN</td>\n      <td>1.0</td>\n      <td>16</td>\n    </tr>\n    <tr>\n      <th>1</th>\n      <td>src/services/auth.js</td>\n      <td>1</td>\n      <td>1</td>\n      <td>NaN</td>\n      <td>0.0</td>\n      <td>0.0</td>\n      <td>1.0</td>\n      <td>NaN</td>\n      <td>100.0</td>\n      <td>NaN</td>\n      <td>1.0</td>\n      <td>7</td>\n    </tr>\n    <tr>\n      <th>2</th>\n      <td>src/middlewares/auth.js</td>\n      <td>2</td>\n      <td>6</td>\n      <td>NaN</td>\n      <td>0.0</td>\n      <td>0.0</td>\n      <td>1.0</td>\n      <td>NaN</td>\n      <td>100.0</td>\n      <td>NaN</td>\n      <td>1.0</td>\n      <td>23</td>\n    </tr>\n    <tr>\n      <th>3</th>\n      <td>src/config/database.js</td>\n      <td>0</td>\n      <td>0</td>\n      <td>NaN</td>\n      <td>0.0</td>\n      <td>0.0</td>\n      <td>1.0</td>\n      <td>NaN</td>\n      <td>100.0</td>\n      <td>NaN</td>\n      <td>1.0</td>\n      <td>44</td>\n    </tr>\n    <tr>\n      <th>4</th>\n      <td>src/utils/file.js</td>\n      <td>1</td>\n      <td>1</td>\n      <td>NaN</td>\n      <td>0.0</td>\n      <td>0.0</td>\n      <td>1.0</td>\n      <td>NaN</td>\n      <td>100.0</td>\n      <td>NaN</td>\n      <td>1.0</td>\n      <td>9</td>\n    </tr>\n    <tr>\n      <th>5</th>\n      <td>src/db/index.js</td>\n      <td>3</td>\n      <td>3</td>\n      <td>NaN</td>\n      <td>0.0</td>\n      <td>0.0</td>\n      <td>1.0</td>\n      <td>NaN</td>\n      <td>100.0</td>\n      <td>NaN</td>\n      <td>1.0</td>\n      <td>18</td>\n    </tr>\n    <tr>\n      <th>6</th>\n      <td>src/routes.js</td>\n      <td>0</td>\n      <td>0</td>\n      <td>NaN</td>\n      <td>0.0</td>\n      <td>0.0</td>\n      <td>1.0</td>\n      <td>NaN</td>\n      <td>100.0</td>\n      <td>NaN</td>\n      <td>1.0</td>\n      <td>7</td>\n    </tr>\n    <tr>\n      <th>7</th>\n      <td>src/server.js</td>\n      <td>0</td>\n      <td>1</td>\n      <td>NaN</td>\n      <td>0.0</td>\n      <td>0.0</td>\n      <td>1.0</td>\n      <td>NaN</td>\n      <td>100.0</td>\n      <td>NaN</td>\n      <td>1.0</td>\n      <td>8</td>\n    </tr>\n    <tr>\n      <th>8</th>\n      <td>src/routes/session.routes.js</td>\n      <td>0</td>\n      <td>0</td>\n      <td>NaN</td>\n      <td>0.0</td>\n      <td>0.0</td>\n      <td>1.0</td>\n      <td>NaN</td>\n      <td>100.0</td>\n      <td>NaN</td>\n      <td>1.0</td>\n      <td>5</td>\n    </tr>\n    <tr>\n      <th>9</th>\n      <td>src/controllers/SessionController.js</td>\n      <td>1</td>\n      <td>3</td>\n      <td>NaN</td>\n      <td>0.0</td>\n      <td>0.0</td>\n      <td>1.0</td>\n      <td>NaN</td>\n      <td>100.0</td>\n      <td>NaN</td>\n      <td>1.0</td>\n      <td>22</td>\n    </tr>\n    <tr>\n      <th>10</th>\n      <td>src/config/upload.js</td>\n      <td>2</td>\n      <td>2</td>\n      <td>NaN</td>\n      <td>0.0</td>\n      <td>0.0</td>\n      <td>1.0</td>\n      <td>NaN</td>\n      <td>100.0</td>\n      <td>NaN</td>\n      <td>1.0</td>\n      <td>18</td>\n    </tr>\n    <tr>\n      <th>11</th>\n      <td>src/models/User.js</td>\n      <td>1</td>\n      <td>1</td>\n      <td>NaN</td>\n      <td>0.0</td>\n      <td>0.0</td>\n      <td>1.0</td>\n      <td>NaN</td>\n      <td>100.0</td>\n      <td>NaN</td>\n      <td>1.0</td>\n      <td>27</td>\n    </tr>\n    <tr>\n      <th>12</th>\n      <td>src/routes/user.routes.js</td>\n      <td>0</td>\n      <td>0</td>\n      <td>NaN</td>\n      <td>0.0</td>\n      <td>0.0</td>\n      <td>1.0</td>\n      <td>NaN</td>\n      <td>100.0</td>\n      <td>NaN</td>\n      <td>1.0</td>\n      <td>18</td>\n    </tr>\n    <tr>\n      <th>13</th>\n      <td>src/controllers/UserController.js</td>\n      <td>6</td>\n      <td>15</td>\n      <td>NaN</td>\n      <td>0.0</td>\n      <td>0.0</td>\n      <td>1.0</td>\n      <td>NaN</td>\n      <td>100.0</td>\n      <td>NaN</td>\n      <td>1.0</td>\n      <td>132</td>\n    </tr>\n  </tbody>\n</table>\n</div>"
     },
     "metadata": {},
     "execution_count": 32
    }
   ],
   "source": [
    "user_files_data"
   ]
  },
  {
   "cell_type": "markdown",
   "metadata": {},
   "source": [
    "##### Gateway"
   ]
  },
  {
   "cell_type": "code",
   "execution_count": 33,
   "metadata": {},
   "outputs": [
    {
     "output_type": "execute_result",
     "data": {
      "text/plain": [
       "                            path functions complexity coverage  \\\n",
       "0                     src/app.js         7         11      NaN   \n",
       "1       src/utils/baseRequest.js         6          6      NaN   \n",
       "2          src/utils/endpoint.js         0          0      NaN   \n",
       "3         src/utils/mergeUser.js         6          8      NaN   \n",
       "4    src/microservices/Rating.js         0          1      NaN   \n",
       "5   src/microservices/Request.js         9         10      NaN   \n",
       "6   src/routes/request.routes.js         0          0      NaN   \n",
       "7                  src/routes.js         0          0      NaN   \n",
       "8                  src/server.js         0          1      NaN   \n",
       "9      src/microservices/User.js         2          3      NaN   \n",
       "10     src/routes/user.routes.js         0          0      NaN   \n",
       "\n",
       "   comment_lines_density duplicated_lines_density security_rating tests  \\\n",
       "0                    0.0                      0.0             1.0   NaN   \n",
       "1                    0.0                      0.0             3.0   NaN   \n",
       "2                    0.0                      0.0             1.0   NaN   \n",
       "3                    0.0                      0.0             1.0   NaN   \n",
       "4                    0.0                      0.0             1.0   NaN   \n",
       "5                    0.0                      0.0             1.0   NaN   \n",
       "6                    0.0                      0.0             1.0   NaN   \n",
       "7                    0.0                      0.0             1.0   NaN   \n",
       "8                    0.0                      0.0             1.0   NaN   \n",
       "9                    0.0                      0.0             1.0   NaN   \n",
       "10                   0.0                      0.0             1.0   NaN   \n",
       "\n",
       "   test_success_density test_execution_time reliability_rating ncloc  \n",
       "0                 100.0                 NaN                1.0    40  \n",
       "1                 100.0                 NaN                1.0    27  \n",
       "2                 100.0                 NaN                1.0    18  \n",
       "3                 100.0                 NaN                1.0    22  \n",
       "4                 100.0                 NaN                1.0     3  \n",
       "5                 100.0                 NaN                1.0    60  \n",
       "6                 100.0                 NaN                1.0    13  \n",
       "7                 100.0                 NaN                1.0     7  \n",
       "8                 100.0                 NaN                1.0     7  \n",
       "9                 100.0                 NaN                1.0    13  \n",
       "10                100.0                 NaN                1.0     6  "
      ],
      "text/html": "<div>\n<style scoped>\n    .dataframe tbody tr th:only-of-type {\n        vertical-align: middle;\n    }\n\n    .dataframe tbody tr th {\n        vertical-align: top;\n    }\n\n    .dataframe thead th {\n        text-align: right;\n    }\n</style>\n<table border=\"1\" class=\"dataframe\">\n  <thead>\n    <tr style=\"text-align: right;\">\n      <th></th>\n      <th>path</th>\n      <th>functions</th>\n      <th>complexity</th>\n      <th>coverage</th>\n      <th>comment_lines_density</th>\n      <th>duplicated_lines_density</th>\n      <th>security_rating</th>\n      <th>tests</th>\n      <th>test_success_density</th>\n      <th>test_execution_time</th>\n      <th>reliability_rating</th>\n      <th>ncloc</th>\n    </tr>\n  </thead>\n  <tbody>\n    <tr>\n      <th>0</th>\n      <td>src/app.js</td>\n      <td>7</td>\n      <td>11</td>\n      <td>NaN</td>\n      <td>0.0</td>\n      <td>0.0</td>\n      <td>1.0</td>\n      <td>NaN</td>\n      <td>100.0</td>\n      <td>NaN</td>\n      <td>1.0</td>\n      <td>40</td>\n    </tr>\n    <tr>\n      <th>1</th>\n      <td>src/utils/baseRequest.js</td>\n      <td>6</td>\n      <td>6</td>\n      <td>NaN</td>\n      <td>0.0</td>\n      <td>0.0</td>\n      <td>3.0</td>\n      <td>NaN</td>\n      <td>100.0</td>\n      <td>NaN</td>\n      <td>1.0</td>\n      <td>27</td>\n    </tr>\n    <tr>\n      <th>2</th>\n      <td>src/utils/endpoint.js</td>\n      <td>0</td>\n      <td>0</td>\n      <td>NaN</td>\n      <td>0.0</td>\n      <td>0.0</td>\n      <td>1.0</td>\n      <td>NaN</td>\n      <td>100.0</td>\n      <td>NaN</td>\n      <td>1.0</td>\n      <td>18</td>\n    </tr>\n    <tr>\n      <th>3</th>\n      <td>src/utils/mergeUser.js</td>\n      <td>6</td>\n      <td>8</td>\n      <td>NaN</td>\n      <td>0.0</td>\n      <td>0.0</td>\n      <td>1.0</td>\n      <td>NaN</td>\n      <td>100.0</td>\n      <td>NaN</td>\n      <td>1.0</td>\n      <td>22</td>\n    </tr>\n    <tr>\n      <th>4</th>\n      <td>src/microservices/Rating.js</td>\n      <td>0</td>\n      <td>1</td>\n      <td>NaN</td>\n      <td>0.0</td>\n      <td>0.0</td>\n      <td>1.0</td>\n      <td>NaN</td>\n      <td>100.0</td>\n      <td>NaN</td>\n      <td>1.0</td>\n      <td>3</td>\n    </tr>\n    <tr>\n      <th>5</th>\n      <td>src/microservices/Request.js</td>\n      <td>9</td>\n      <td>10</td>\n      <td>NaN</td>\n      <td>0.0</td>\n      <td>0.0</td>\n      <td>1.0</td>\n      <td>NaN</td>\n      <td>100.0</td>\n      <td>NaN</td>\n      <td>1.0</td>\n      <td>60</td>\n    </tr>\n    <tr>\n      <th>6</th>\n      <td>src/routes/request.routes.js</td>\n      <td>0</td>\n      <td>0</td>\n      <td>NaN</td>\n      <td>0.0</td>\n      <td>0.0</td>\n      <td>1.0</td>\n      <td>NaN</td>\n      <td>100.0</td>\n      <td>NaN</td>\n      <td>1.0</td>\n      <td>13</td>\n    </tr>\n    <tr>\n      <th>7</th>\n      <td>src/routes.js</td>\n      <td>0</td>\n      <td>0</td>\n      <td>NaN</td>\n      <td>0.0</td>\n      <td>0.0</td>\n      <td>1.0</td>\n      <td>NaN</td>\n      <td>100.0</td>\n      <td>NaN</td>\n      <td>1.0</td>\n      <td>7</td>\n    </tr>\n    <tr>\n      <th>8</th>\n      <td>src/server.js</td>\n      <td>0</td>\n      <td>1</td>\n      <td>NaN</td>\n      <td>0.0</td>\n      <td>0.0</td>\n      <td>1.0</td>\n      <td>NaN</td>\n      <td>100.0</td>\n      <td>NaN</td>\n      <td>1.0</td>\n      <td>7</td>\n    </tr>\n    <tr>\n      <th>9</th>\n      <td>src/microservices/User.js</td>\n      <td>2</td>\n      <td>3</td>\n      <td>NaN</td>\n      <td>0.0</td>\n      <td>0.0</td>\n      <td>1.0</td>\n      <td>NaN</td>\n      <td>100.0</td>\n      <td>NaN</td>\n      <td>1.0</td>\n      <td>13</td>\n    </tr>\n    <tr>\n      <th>10</th>\n      <td>src/routes/user.routes.js</td>\n      <td>0</td>\n      <td>0</td>\n      <td>NaN</td>\n      <td>0.0</td>\n      <td>0.0</td>\n      <td>1.0</td>\n      <td>NaN</td>\n      <td>100.0</td>\n      <td>NaN</td>\n      <td>1.0</td>\n      <td>6</td>\n    </tr>\n  </tbody>\n</table>\n</div>"
     },
     "metadata": {},
     "execution_count": 33
    }
   ],
   "source": [
    "gateway_files_data"
   ]
  },
  {
   "cell_type": "markdown",
   "metadata": {},
   "source": [
    "# ANALYSIS"
   ]
  },
  {
   "cell_type": "markdown",
   "metadata": {},
   "source": [
    "## MAINTAINABILITY"
   ]
  },
  {
   "cell_type": "markdown",
   "metadata": {},
   "source": [
    "### CODE QUALITY"
   ]
  },
  {
   "cell_type": "markdown",
   "metadata": {},
   "source": [
    "##### COMPLEXITY"
   ]
  },
  {
   "cell_type": "code",
   "execution_count": 34,
   "metadata": {},
   "outputs": [],
   "source": [
    "def m1(df):\n",
    "    \n",
    "    density_non_complex_files = round((len(df[(df['complexity'].astype(float)/df['functions'].astype(float)) < 10])/len(df))*100, 2)\n",
    "    \n",
    "    return density_non_complex_files"
   ]
  },
  {
   "cell_type": "markdown",
   "metadata": {},
   "source": [
    "##### COMMENTS"
   ]
  },
  {
   "cell_type": "code",
   "execution_count": 35,
   "metadata": {},
   "outputs": [],
   "source": [
    "def m2(df):\n",
    "    \n",
    "    density_comment_files = round((len(df[(df['comment_lines_density'].astype(float) > 10) & (df['comment_lines_density'].astype(float) < 30)])/len(df))*100, 2)\n",
    "    \n",
    "    return density_comment_files"
   ]
  },
  {
   "cell_type": "markdown",
   "metadata": {},
   "source": [
    "##### DUPLICATIONS"
   ]
  },
  {
   "cell_type": "code",
   "execution_count": 36,
   "metadata": {},
   "outputs": [],
   "source": [
    "def m3(df):\n",
    "    \n",
    "    duplication = round((len(df[(df['duplicated_lines_density'].astype(float) < 5)])/len(df))*100, 2)\n",
    "    \n",
    "    return duplication"
   ]
  },
  {
   "cell_type": "markdown",
   "metadata": {},
   "source": [
    "### BLOCKING CODE"
   ]
  },
  {
   "cell_type": "markdown",
   "metadata": {},
   "source": [
    "#### NON-BLOCKING FILES"
   ]
  },
  {
   "cell_type": "code",
   "execution_count": 37,
   "metadata": {},
   "outputs": [],
   "source": [
    "def m4(df):\n",
    "    \n",
    "    non_blocking_files = round((len(df[(df['security_rating'].astype(float) >= 4)])/len(df))*100,2)\n",
    "    \n",
    "    return non_blocking_files"
   ]
  },
  {
   "cell_type": "markdown",
   "metadata": {},
   "source": [
    "## RELIABILITY"
   ]
  },
  {
   "cell_type": "markdown",
   "metadata": {},
   "source": [
    "#### TEST SUCCESS"
   ]
  },
  {
   "cell_type": "code",
   "execution_count": 38,
   "metadata": {},
   "outputs": [],
   "source": [
    "def m5(df):\n",
    "    \n",
    "    test_success_file = df[['path', 'test_success_density']]\n",
    "    test_success_repository = df['test_success_density'].astype(float).mean()\n",
    "    \n",
    "    print(\"Project test unit density: \", test_success_repository)\n",
    "    \n",
    "    return test_success_file"
   ]
  },
  {
   "cell_type": "markdown",
   "metadata": {},
   "source": [
    "#### FAST TESTS"
   ]
  },
  {
   "cell_type": "code",
   "execution_count": 39,
   "metadata": {},
   "outputs": [],
   "source": [
    "def m6(df):\n",
    "    \n",
    "    fast_test_df = df[(df['test_execution_time'].astype(float) < 300)]\n",
    "    fast_test_df['fast_test'] = fast_test_df['test_execution_time']/fast_test_df['tests']\n",
    "    \n",
    "    fast_test_file = fast_test_df[['path', 'fast_test']]\n",
    "    \n",
    "    fast_test_repository = fast_test_df['fast_test'].astype(float).mean()\n",
    "    \n",
    "    print(\"Project test unit density: \", fast_test_repository)\n",
    "    \n",
    "    return fast_test_file"
   ]
  },
  {
   "cell_type": "markdown",
   "metadata": {},
   "source": [
    "## PRODUCTIVITY"
   ]
  },
  {
   "cell_type": "markdown",
   "metadata": {},
   "source": [
    "### TIMEFRAME: PUT_YOUR_TIMEFRAME_HERE"
   ]
  },
  {
   "cell_type": "code",
   "execution_count": 40,
   "metadata": {},
   "outputs": [],
   "source": [
    "NUMBER_OF_ISSUES_RESOLVED = 109\n",
    "NUMBER_OF_ISSUES = 130\n",
    "\n",
    "TAGS = {\n",
    "    \"HOTFIX\": 3,\n",
    "    \"DOCS\": 56,\n",
    "    \"FEATURE\": 9,\n",
    "    \"ARQ\": 3,\n",
    "    \"DEVOPS\": 10,\n",
    "    \"ANALYTICS\": 8,\n",
    "    \"US\": 28,\n",
    "    \"EASY\": 8,\n",
    "    \"MEDIUM\": 40,\n",
    "    \"HARD\": 6,\n",
    "    \"EPS\": 79,\n",
    "    \"MDS\": 65\n",
    "}"
   ]
  },
  {
   "cell_type": "markdown",
   "metadata": {},
   "source": [
    "#### RESOLVED ISSUES' THROUGHPUT"
   ]
  },
  {
   "cell_type": "code",
   "execution_count": 41,
   "metadata": {},
   "outputs": [],
   "source": [
    "def m7(number_of_issues_resolved, number_of_issues):\n",
    "    \n",
    "    resolved_issues_throughput = round((number_of_issues_resolved / number_of_issues) * 100, 2)\n",
    "    \n",
    "    return resolved_issues_throughput"
   ]
  },
  {
   "cell_type": "markdown",
   "metadata": {},
   "source": [
    "#### ISSUE TYPE IN A TIMEFRAME"
   ]
  },
  {
   "cell_type": "code",
   "execution_count": 42,
   "metadata": {},
   "outputs": [],
   "source": [
    "def density(issue, number_of_issues):\n",
    "    issue_density = round((issue / number_of_issues) * 100, 2)\n",
    "    return issue_density"
   ]
  },
  {
   "cell_type": "code",
   "execution_count": 43,
   "metadata": {},
   "outputs": [],
   "source": [
    "def m8(tag_dict, number_of_issues):\n",
    "    \n",
    "    issue_densities = {\n",
    "        \"hotfix\": [density(tag_dict[\"HOTFIX\"], number_of_issues)],\n",
    "        \"docs\": [density(tag_dict[\"DOCS\"], number_of_issues)],\n",
    "        \"feature\": [density(tag_dict[\"FEATURE\"], number_of_issues)],\n",
    "        \"arq\": [density(tag_dict[\"ARQ\"], number_of_issues)],\n",
    "        \"devops\": [density(tag_dict[\"DEVOPS\"], number_of_issues)],\n",
    "        \"analytics\": [density(tag_dict[\"ANALYTICS\"], number_of_issues)],\n",
    "        \"us\": [density(tag_dict[\"US\"], number_of_issues)],\n",
    "        \"easy\": [density(tag_dict[\"EASY\"], number_of_issues)],\n",
    "        \"medium\": [density(tag_dict[\"MEDIUM\"], number_of_issues)],\n",
    "        \"hard\": [density(tag_dict[\"HARD\"], number_of_issues)],\n",
    "        \"eps\": [density(tag_dict[\"EPS\"], number_of_issues)],\n",
    "        \"mds\": [density(tag_dict[\"MDS\"], number_of_issues)]\n",
    "    }\n",
    "\n",
    "    issue_densities = pd.DataFrame.from_dict(issue_densities).T.reset_index()\n",
    "    \n",
    "    issue_densities.columns = ['density' ,'percentage']\n",
    "    \n",
    "    return issue_densities"
   ]
  },
  {
   "cell_type": "markdown",
   "metadata": {},
   "source": [
    "#### BUGS RATIO"
   ]
  },
  {
   "cell_type": "code",
   "execution_count": 44,
   "metadata": {},
   "outputs": [],
   "source": [
    "def m9(tag_dict, number_of_issues):\n",
    "    \n",
    "    bugs_ratio = round(((tag_dict[\"DOCS\"] + tag_dict[\"FEATURE\"] + tag_dict[\"ARQ\"] + tag_dict[\"DEVOPS\"] + tag_dict[\"ANALYTICS\"]) / number_of_issues) * 100, 2)\n",
    "    \n",
    "    return bugs_ratio"
   ]
  },
  {
   "cell_type": "markdown",
   "metadata": {},
   "source": [
    "### METRIC RESULTS"
   ]
  },
  {
   "cell_type": "markdown",
   "metadata": {},
   "source": [
    "#### Request"
   ]
  },
  {
   "cell_type": "code",
   "execution_count": 45,
   "metadata": {},
   "outputs": [
    {
     "output_type": "execute_result",
     "data": {
      "text/plain": [
       "80.0"
      ]
     },
     "metadata": {},
     "execution_count": 45
    }
   ],
   "source": [
    "m1(request_files_data)"
   ]
  },
  {
   "cell_type": "code",
   "execution_count": 46,
   "metadata": {},
   "outputs": [
    {
     "output_type": "execute_result",
     "data": {
      "text/plain": [
       "20.0"
      ]
     },
     "metadata": {},
     "execution_count": 46
    }
   ],
   "source": [
    "m2(request_files_data)"
   ]
  },
  {
   "cell_type": "code",
   "execution_count": 47,
   "metadata": {},
   "outputs": [
    {
     "output_type": "execute_result",
     "data": {
      "text/plain": [
       "100.0"
      ]
     },
     "metadata": {},
     "execution_count": 47
    }
   ],
   "source": [
    "m3(request_files_data)"
   ]
  },
  {
   "cell_type": "code",
   "execution_count": 48,
   "metadata": {},
   "outputs": [
    {
     "output_type": "execute_result",
     "data": {
      "text/plain": [
       "0.0"
      ]
     },
     "metadata": {},
     "execution_count": 48
    }
   ],
   "source": [
    "m4(request_files_data)"
   ]
  },
  {
   "cell_type": "code",
   "execution_count": 49,
   "metadata": {},
   "outputs": [
    {
     "output_type": "stream",
     "name": "stdout",
     "text": [
      "Project test unit density:  100.0\n"
     ]
    },
    {
     "output_type": "execute_result",
     "data": {
      "text/plain": [
       "                                                 path test_success_density\n",
       "0   migrations/versions/61cd8752746f_migration_dat...                100.0\n",
       "1                                 project/__init__.py                100.0\n",
       "2                             project/api/__init__.py                100.0\n",
       "3                           project/tests/__init__.py                100.0\n",
       "4                               project/tests/base.py                100.0\n",
       "5                                   project/config.py                100.0\n",
       "6                                   migrations/env.py                100.0\n",
       "7                                           manage.py                100.0\n",
       "8                               project/api/models.py                100.0\n",
       "9                        project/tests/test_config.py                100.0\n",
       "10             project/tests/test_product_category.py                100.0\n",
       "11                      project/tests/test_request.py                100.0\n",
       "12                               project/api/utils.py                100.0\n",
       "13                             project/tests/utils.py                100.0\n",
       "14                               project/api/views.py                100.0"
      ],
      "text/html": "<div>\n<style scoped>\n    .dataframe tbody tr th:only-of-type {\n        vertical-align: middle;\n    }\n\n    .dataframe tbody tr th {\n        vertical-align: top;\n    }\n\n    .dataframe thead th {\n        text-align: right;\n    }\n</style>\n<table border=\"1\" class=\"dataframe\">\n  <thead>\n    <tr style=\"text-align: right;\">\n      <th></th>\n      <th>path</th>\n      <th>test_success_density</th>\n    </tr>\n  </thead>\n  <tbody>\n    <tr>\n      <th>0</th>\n      <td>migrations/versions/61cd8752746f_migration_dat...</td>\n      <td>100.0</td>\n    </tr>\n    <tr>\n      <th>1</th>\n      <td>project/__init__.py</td>\n      <td>100.0</td>\n    </tr>\n    <tr>\n      <th>2</th>\n      <td>project/api/__init__.py</td>\n      <td>100.0</td>\n    </tr>\n    <tr>\n      <th>3</th>\n      <td>project/tests/__init__.py</td>\n      <td>100.0</td>\n    </tr>\n    <tr>\n      <th>4</th>\n      <td>project/tests/base.py</td>\n      <td>100.0</td>\n    </tr>\n    <tr>\n      <th>5</th>\n      <td>project/config.py</td>\n      <td>100.0</td>\n    </tr>\n    <tr>\n      <th>6</th>\n      <td>migrations/env.py</td>\n      <td>100.0</td>\n    </tr>\n    <tr>\n      <th>7</th>\n      <td>manage.py</td>\n      <td>100.0</td>\n    </tr>\n    <tr>\n      <th>8</th>\n      <td>project/api/models.py</td>\n      <td>100.0</td>\n    </tr>\n    <tr>\n      <th>9</th>\n      <td>project/tests/test_config.py</td>\n      <td>100.0</td>\n    </tr>\n    <tr>\n      <th>10</th>\n      <td>project/tests/test_product_category.py</td>\n      <td>100.0</td>\n    </tr>\n    <tr>\n      <th>11</th>\n      <td>project/tests/test_request.py</td>\n      <td>100.0</td>\n    </tr>\n    <tr>\n      <th>12</th>\n      <td>project/api/utils.py</td>\n      <td>100.0</td>\n    </tr>\n    <tr>\n      <th>13</th>\n      <td>project/tests/utils.py</td>\n      <td>100.0</td>\n    </tr>\n    <tr>\n      <th>14</th>\n      <td>project/api/views.py</td>\n      <td>100.0</td>\n    </tr>\n  </tbody>\n</table>\n</div>"
     },
     "metadata": {},
     "execution_count": 49
    }
   ],
   "source": [
    "m5(request_files_data)"
   ]
  },
  {
   "cell_type": "code",
   "execution_count": 50,
   "metadata": {},
   "outputs": [
    {
     "output_type": "stream",
     "name": "stdout",
     "text": [
      "Project test unit density:  nan\n"
     ]
    },
    {
     "output_type": "execute_result",
     "data": {
      "text/plain": [
       "Empty DataFrame\n",
       "Columns: [path, fast_test]\n",
       "Index: []"
      ],
      "text/html": "<div>\n<style scoped>\n    .dataframe tbody tr th:only-of-type {\n        vertical-align: middle;\n    }\n\n    .dataframe tbody tr th {\n        vertical-align: top;\n    }\n\n    .dataframe thead th {\n        text-align: right;\n    }\n</style>\n<table border=\"1\" class=\"dataframe\">\n  <thead>\n    <tr style=\"text-align: right;\">\n      <th></th>\n      <th>path</th>\n      <th>fast_test</th>\n    </tr>\n  </thead>\n  <tbody>\n  </tbody>\n</table>\n</div>"
     },
     "metadata": {},
     "execution_count": 50
    }
   ],
   "source": [
    "m6(request_files_data)"
   ]
  },
  {
   "cell_type": "markdown",
   "metadata": {},
   "source": [
    "#### Rating"
   ]
  },
  {
   "cell_type": "code",
   "execution_count": 51,
   "metadata": {},
   "outputs": [
    {
     "output_type": "execute_result",
     "data": {
      "text/plain": [
       "72.73"
      ]
     },
     "metadata": {},
     "execution_count": 51
    }
   ],
   "source": [
    "m1(rating_files_data)"
   ]
  },
  {
   "cell_type": "code",
   "execution_count": 52,
   "metadata": {},
   "outputs": [
    {
     "output_type": "execute_result",
     "data": {
      "text/plain": [
       "27.27"
      ]
     },
     "metadata": {},
     "execution_count": 52
    }
   ],
   "source": [
    "m2(rating_files_data)"
   ]
  },
  {
   "cell_type": "code",
   "execution_count": 53,
   "metadata": {},
   "outputs": [
    {
     "output_type": "execute_result",
     "data": {
      "text/plain": [
       "100.0"
      ]
     },
     "metadata": {},
     "execution_count": 53
    }
   ],
   "source": [
    "m3(rating_files_data)"
   ]
  },
  {
   "cell_type": "code",
   "execution_count": 54,
   "metadata": {},
   "outputs": [
    {
     "output_type": "execute_result",
     "data": {
      "text/plain": [
       "0.0"
      ]
     },
     "metadata": {},
     "execution_count": 54
    }
   ],
   "source": [
    "m4(rating_files_data)"
   ]
  },
  {
   "cell_type": "code",
   "execution_count": 55,
   "metadata": {},
   "outputs": [
    {
     "output_type": "stream",
     "name": "stdout",
     "text": [
      "Project test unit density:  100.0\n"
     ]
    },
    {
     "output_type": "execute_result",
     "data": {
      "text/plain": [
       "                                        path test_success_density\n",
       "0                        project/__init__.py                100.0\n",
       "1                    project/api/__init__.py                100.0\n",
       "2                  project/tests/__init__.py                100.0\n",
       "3                      project/tests/base.py                100.0\n",
       "4                          project/config.py                100.0\n",
       "5                          migrations/env.py                100.0\n",
       "6   migrations/versions/f88b9890ed2a_v1_0.py                100.0\n",
       "7                                  manage.py                100.0\n",
       "8                      project/api/models.py                100.0\n",
       "9               project/tests/test_config.py                100.0\n",
       "10                      project/api/views.py                100.0"
      ],
      "text/html": "<div>\n<style scoped>\n    .dataframe tbody tr th:only-of-type {\n        vertical-align: middle;\n    }\n\n    .dataframe tbody tr th {\n        vertical-align: top;\n    }\n\n    .dataframe thead th {\n        text-align: right;\n    }\n</style>\n<table border=\"1\" class=\"dataframe\">\n  <thead>\n    <tr style=\"text-align: right;\">\n      <th></th>\n      <th>path</th>\n      <th>test_success_density</th>\n    </tr>\n  </thead>\n  <tbody>\n    <tr>\n      <th>0</th>\n      <td>project/__init__.py</td>\n      <td>100.0</td>\n    </tr>\n    <tr>\n      <th>1</th>\n      <td>project/api/__init__.py</td>\n      <td>100.0</td>\n    </tr>\n    <tr>\n      <th>2</th>\n      <td>project/tests/__init__.py</td>\n      <td>100.0</td>\n    </tr>\n    <tr>\n      <th>3</th>\n      <td>project/tests/base.py</td>\n      <td>100.0</td>\n    </tr>\n    <tr>\n      <th>4</th>\n      <td>project/config.py</td>\n      <td>100.0</td>\n    </tr>\n    <tr>\n      <th>5</th>\n      <td>migrations/env.py</td>\n      <td>100.0</td>\n    </tr>\n    <tr>\n      <th>6</th>\n      <td>migrations/versions/f88b9890ed2a_v1_0.py</td>\n      <td>100.0</td>\n    </tr>\n    <tr>\n      <th>7</th>\n      <td>manage.py</td>\n      <td>100.0</td>\n    </tr>\n    <tr>\n      <th>8</th>\n      <td>project/api/models.py</td>\n      <td>100.0</td>\n    </tr>\n    <tr>\n      <th>9</th>\n      <td>project/tests/test_config.py</td>\n      <td>100.0</td>\n    </tr>\n    <tr>\n      <th>10</th>\n      <td>project/api/views.py</td>\n      <td>100.0</td>\n    </tr>\n  </tbody>\n</table>\n</div>"
     },
     "metadata": {},
     "execution_count": 55
    }
   ],
   "source": [
    "m5(rating_files_data)"
   ]
  },
  {
   "cell_type": "code",
   "execution_count": 56,
   "metadata": {
    "scrolled": true
   },
   "outputs": [
    {
     "output_type": "stream",
     "name": "stdout",
     "text": [
      "Project test unit density:  nan\n"
     ]
    },
    {
     "output_type": "execute_result",
     "data": {
      "text/plain": [
       "Empty DataFrame\n",
       "Columns: [path, fast_test]\n",
       "Index: []"
      ],
      "text/html": "<div>\n<style scoped>\n    .dataframe tbody tr th:only-of-type {\n        vertical-align: middle;\n    }\n\n    .dataframe tbody tr th {\n        vertical-align: top;\n    }\n\n    .dataframe thead th {\n        text-align: right;\n    }\n</style>\n<table border=\"1\" class=\"dataframe\">\n  <thead>\n    <tr style=\"text-align: right;\">\n      <th></th>\n      <th>path</th>\n      <th>fast_test</th>\n    </tr>\n  </thead>\n  <tbody>\n  </tbody>\n</table>\n</div>"
     },
     "metadata": {},
     "execution_count": 56
    }
   ],
   "source": [
    "m6(rating_files_data)"
   ]
  },
  {
   "cell_type": "markdown",
   "metadata": {},
   "source": [
    "#### User"
   ]
  },
  {
   "cell_type": "code",
   "execution_count": 57,
   "metadata": {},
   "outputs": [
    {
     "output_type": "execute_result",
     "data": {
      "text/plain": [
       "64.29"
      ]
     },
     "metadata": {},
     "execution_count": 57
    }
   ],
   "source": [
    "m1(user_files_data)"
   ]
  },
  {
   "cell_type": "code",
   "execution_count": 58,
   "metadata": {},
   "outputs": [
    {
     "output_type": "execute_result",
     "data": {
      "text/plain": [
       "0.0"
      ]
     },
     "metadata": {},
     "execution_count": 58
    }
   ],
   "source": [
    "m2(user_files_data)"
   ]
  },
  {
   "cell_type": "code",
   "execution_count": 59,
   "metadata": {},
   "outputs": [
    {
     "output_type": "execute_result",
     "data": {
      "text/plain": [
       "100.0"
      ]
     },
     "metadata": {},
     "execution_count": 59
    }
   ],
   "source": [
    "m3(user_files_data)"
   ]
  },
  {
   "cell_type": "code",
   "execution_count": 60,
   "metadata": {},
   "outputs": [
    {
     "output_type": "execute_result",
     "data": {
      "text/plain": [
       "0.0"
      ]
     },
     "metadata": {},
     "execution_count": 60
    }
   ],
   "source": [
    "m4(user_files_data)"
   ]
  },
  {
   "cell_type": "code",
   "execution_count": 61,
   "metadata": {},
   "outputs": [
    {
     "output_type": "stream",
     "name": "stdout",
     "text": [
      "Project test unit density:  100.0\n"
     ]
    },
    {
     "output_type": "execute_result",
     "data": {
      "text/plain": [
       "                                    path test_success_density\n",
       "0                             src/app.js                100.0\n",
       "1                   src/services/auth.js                100.0\n",
       "2                src/middlewares/auth.js                100.0\n",
       "3                 src/config/database.js                100.0\n",
       "4                      src/utils/file.js                100.0\n",
       "5                        src/db/index.js                100.0\n",
       "6                          src/routes.js                100.0\n",
       "7                          src/server.js                100.0\n",
       "8           src/routes/session.routes.js                100.0\n",
       "9   src/controllers/SessionController.js                100.0\n",
       "10                  src/config/upload.js                100.0\n",
       "11                    src/models/User.js                100.0\n",
       "12             src/routes/user.routes.js                100.0\n",
       "13     src/controllers/UserController.js                100.0"
      ],
      "text/html": "<div>\n<style scoped>\n    .dataframe tbody tr th:only-of-type {\n        vertical-align: middle;\n    }\n\n    .dataframe tbody tr th {\n        vertical-align: top;\n    }\n\n    .dataframe thead th {\n        text-align: right;\n    }\n</style>\n<table border=\"1\" class=\"dataframe\">\n  <thead>\n    <tr style=\"text-align: right;\">\n      <th></th>\n      <th>path</th>\n      <th>test_success_density</th>\n    </tr>\n  </thead>\n  <tbody>\n    <tr>\n      <th>0</th>\n      <td>src/app.js</td>\n      <td>100.0</td>\n    </tr>\n    <tr>\n      <th>1</th>\n      <td>src/services/auth.js</td>\n      <td>100.0</td>\n    </tr>\n    <tr>\n      <th>2</th>\n      <td>src/middlewares/auth.js</td>\n      <td>100.0</td>\n    </tr>\n    <tr>\n      <th>3</th>\n      <td>src/config/database.js</td>\n      <td>100.0</td>\n    </tr>\n    <tr>\n      <th>4</th>\n      <td>src/utils/file.js</td>\n      <td>100.0</td>\n    </tr>\n    <tr>\n      <th>5</th>\n      <td>src/db/index.js</td>\n      <td>100.0</td>\n    </tr>\n    <tr>\n      <th>6</th>\n      <td>src/routes.js</td>\n      <td>100.0</td>\n    </tr>\n    <tr>\n      <th>7</th>\n      <td>src/server.js</td>\n      <td>100.0</td>\n    </tr>\n    <tr>\n      <th>8</th>\n      <td>src/routes/session.routes.js</td>\n      <td>100.0</td>\n    </tr>\n    <tr>\n      <th>9</th>\n      <td>src/controllers/SessionController.js</td>\n      <td>100.0</td>\n    </tr>\n    <tr>\n      <th>10</th>\n      <td>src/config/upload.js</td>\n      <td>100.0</td>\n    </tr>\n    <tr>\n      <th>11</th>\n      <td>src/models/User.js</td>\n      <td>100.0</td>\n    </tr>\n    <tr>\n      <th>12</th>\n      <td>src/routes/user.routes.js</td>\n      <td>100.0</td>\n    </tr>\n    <tr>\n      <th>13</th>\n      <td>src/controllers/UserController.js</td>\n      <td>100.0</td>\n    </tr>\n  </tbody>\n</table>\n</div>"
     },
     "metadata": {},
     "execution_count": 61
    }
   ],
   "source": [
    "m5(user_files_data)"
   ]
  },
  {
   "cell_type": "code",
   "execution_count": 62,
   "metadata": {},
   "outputs": [
    {
     "output_type": "stream",
     "name": "stdout",
     "text": [
      "Project test unit density:  nan\n"
     ]
    },
    {
     "output_type": "execute_result",
     "data": {
      "text/plain": [
       "Empty DataFrame\n",
       "Columns: [path, fast_test]\n",
       "Index: []"
      ],
      "text/html": "<div>\n<style scoped>\n    .dataframe tbody tr th:only-of-type {\n        vertical-align: middle;\n    }\n\n    .dataframe tbody tr th {\n        vertical-align: top;\n    }\n\n    .dataframe thead th {\n        text-align: right;\n    }\n</style>\n<table border=\"1\" class=\"dataframe\">\n  <thead>\n    <tr style=\"text-align: right;\">\n      <th></th>\n      <th>path</th>\n      <th>fast_test</th>\n    </tr>\n  </thead>\n  <tbody>\n  </tbody>\n</table>\n</div>"
     },
     "metadata": {},
     "execution_count": 62
    }
   ],
   "source": [
    "m6(user_files_data)"
   ]
  },
  {
   "cell_type": "markdown",
   "metadata": {},
   "source": [
    "#### Gateway"
   ]
  },
  {
   "cell_type": "code",
   "execution_count": 63,
   "metadata": {},
   "outputs": [
    {
     "output_type": "execute_result",
     "data": {
      "text/plain": [
       "45.45"
      ]
     },
     "metadata": {},
     "execution_count": 63
    }
   ],
   "source": [
    "m1(gateway_files_data)"
   ]
  },
  {
   "cell_type": "code",
   "execution_count": 64,
   "metadata": {},
   "outputs": [
    {
     "output_type": "execute_result",
     "data": {
      "text/plain": [
       "0.0"
      ]
     },
     "metadata": {},
     "execution_count": 64
    }
   ],
   "source": [
    "m2(gateway_files_data)"
   ]
  },
  {
   "cell_type": "code",
   "execution_count": 65,
   "metadata": {},
   "outputs": [
    {
     "output_type": "execute_result",
     "data": {
      "text/plain": [
       "100.0"
      ]
     },
     "metadata": {},
     "execution_count": 65
    }
   ],
   "source": [
    "m3(gateway_files_data)"
   ]
  },
  {
   "cell_type": "code",
   "execution_count": 66,
   "metadata": {},
   "outputs": [
    {
     "output_type": "execute_result",
     "data": {
      "text/plain": [
       "0.0"
      ]
     },
     "metadata": {},
     "execution_count": 66
    }
   ],
   "source": [
    "m4(gateway_files_data)"
   ]
  },
  {
   "cell_type": "code",
   "execution_count": 67,
   "metadata": {},
   "outputs": [
    {
     "output_type": "stream",
     "name": "stdout",
     "text": [
      "Project test unit density:  100.0\n"
     ]
    },
    {
     "output_type": "execute_result",
     "data": {
      "text/plain": [
       "                            path test_success_density\n",
       "0                     src/app.js                100.0\n",
       "1       src/utils/baseRequest.js                100.0\n",
       "2          src/utils/endpoint.js                100.0\n",
       "3         src/utils/mergeUser.js                100.0\n",
       "4    src/microservices/Rating.js                100.0\n",
       "5   src/microservices/Request.js                100.0\n",
       "6   src/routes/request.routes.js                100.0\n",
       "7                  src/routes.js                100.0\n",
       "8                  src/server.js                100.0\n",
       "9      src/microservices/User.js                100.0\n",
       "10     src/routes/user.routes.js                100.0"
      ],
      "text/html": "<div>\n<style scoped>\n    .dataframe tbody tr th:only-of-type {\n        vertical-align: middle;\n    }\n\n    .dataframe tbody tr th {\n        vertical-align: top;\n    }\n\n    .dataframe thead th {\n        text-align: right;\n    }\n</style>\n<table border=\"1\" class=\"dataframe\">\n  <thead>\n    <tr style=\"text-align: right;\">\n      <th></th>\n      <th>path</th>\n      <th>test_success_density</th>\n    </tr>\n  </thead>\n  <tbody>\n    <tr>\n      <th>0</th>\n      <td>src/app.js</td>\n      <td>100.0</td>\n    </tr>\n    <tr>\n      <th>1</th>\n      <td>src/utils/baseRequest.js</td>\n      <td>100.0</td>\n    </tr>\n    <tr>\n      <th>2</th>\n      <td>src/utils/endpoint.js</td>\n      <td>100.0</td>\n    </tr>\n    <tr>\n      <th>3</th>\n      <td>src/utils/mergeUser.js</td>\n      <td>100.0</td>\n    </tr>\n    <tr>\n      <th>4</th>\n      <td>src/microservices/Rating.js</td>\n      <td>100.0</td>\n    </tr>\n    <tr>\n      <th>5</th>\n      <td>src/microservices/Request.js</td>\n      <td>100.0</td>\n    </tr>\n    <tr>\n      <th>6</th>\n      <td>src/routes/request.routes.js</td>\n      <td>100.0</td>\n    </tr>\n    <tr>\n      <th>7</th>\n      <td>src/routes.js</td>\n      <td>100.0</td>\n    </tr>\n    <tr>\n      <th>8</th>\n      <td>src/server.js</td>\n      <td>100.0</td>\n    </tr>\n    <tr>\n      <th>9</th>\n      <td>src/microservices/User.js</td>\n      <td>100.0</td>\n    </tr>\n    <tr>\n      <th>10</th>\n      <td>src/routes/user.routes.js</td>\n      <td>100.0</td>\n    </tr>\n  </tbody>\n</table>\n</div>"
     },
     "metadata": {},
     "execution_count": 67
    }
   ],
   "source": [
    "m5(gateway_files_data)"
   ]
  },
  {
   "cell_type": "code",
   "execution_count": 68,
   "metadata": {},
   "outputs": [
    {
     "output_type": "stream",
     "name": "stdout",
     "text": [
      "Project test unit density:  nan\n"
     ]
    },
    {
     "output_type": "execute_result",
     "data": {
      "text/plain": [
       "Empty DataFrame\n",
       "Columns: [path, fast_test]\n",
       "Index: []"
      ],
      "text/html": "<div>\n<style scoped>\n    .dataframe tbody tr th:only-of-type {\n        vertical-align: middle;\n    }\n\n    .dataframe tbody tr th {\n        vertical-align: top;\n    }\n\n    .dataframe thead th {\n        text-align: right;\n    }\n</style>\n<table border=\"1\" class=\"dataframe\">\n  <thead>\n    <tr style=\"text-align: right;\">\n      <th></th>\n      <th>path</th>\n      <th>fast_test</th>\n    </tr>\n  </thead>\n  <tbody>\n  </tbody>\n</table>\n</div>"
     },
     "metadata": {},
     "execution_count": 68
    }
   ],
   "source": [
    "m6(gateway_files_data)"
   ]
  },
  {
   "cell_type": "markdown",
   "metadata": {},
   "source": [
    "## Issues related Metrics"
   ]
  },
  {
   "cell_type": "code",
   "execution_count": 69,
   "metadata": {},
   "outputs": [
    {
     "output_type": "execute_result",
     "data": {
      "text/plain": [
       "83.85"
      ]
     },
     "metadata": {},
     "execution_count": 69
    }
   ],
   "source": [
    "m7(NUMBER_OF_ISSUES_RESOLVED, NUMBER_OF_ISSUES)"
   ]
  },
  {
   "cell_type": "code",
   "execution_count": 70,
   "metadata": {},
   "outputs": [
    {
     "output_type": "execute_result",
     "data": {
      "text/plain": [
       "      density  percentage\n",
       "0      hotfix        2.31\n",
       "1        docs       43.08\n",
       "2     feature        6.92\n",
       "3         arq        2.31\n",
       "4      devops        7.69\n",
       "5   analytics        6.15\n",
       "6          us       21.54\n",
       "7        easy        6.15\n",
       "8      medium       30.77\n",
       "9        hard        4.62\n",
       "10        eps       60.77\n",
       "11        mds       50.00"
      ],
      "text/html": "<div>\n<style scoped>\n    .dataframe tbody tr th:only-of-type {\n        vertical-align: middle;\n    }\n\n    .dataframe tbody tr th {\n        vertical-align: top;\n    }\n\n    .dataframe thead th {\n        text-align: right;\n    }\n</style>\n<table border=\"1\" class=\"dataframe\">\n  <thead>\n    <tr style=\"text-align: right;\">\n      <th></th>\n      <th>density</th>\n      <th>percentage</th>\n    </tr>\n  </thead>\n  <tbody>\n    <tr>\n      <th>0</th>\n      <td>hotfix</td>\n      <td>2.31</td>\n    </tr>\n    <tr>\n      <th>1</th>\n      <td>docs</td>\n      <td>43.08</td>\n    </tr>\n    <tr>\n      <th>2</th>\n      <td>feature</td>\n      <td>6.92</td>\n    </tr>\n    <tr>\n      <th>3</th>\n      <td>arq</td>\n      <td>2.31</td>\n    </tr>\n    <tr>\n      <th>4</th>\n      <td>devops</td>\n      <td>7.69</td>\n    </tr>\n    <tr>\n      <th>5</th>\n      <td>analytics</td>\n      <td>6.15</td>\n    </tr>\n    <tr>\n      <th>6</th>\n      <td>us</td>\n      <td>21.54</td>\n    </tr>\n    <tr>\n      <th>7</th>\n      <td>easy</td>\n      <td>6.15</td>\n    </tr>\n    <tr>\n      <th>8</th>\n      <td>medium</td>\n      <td>30.77</td>\n    </tr>\n    <tr>\n      <th>9</th>\n      <td>hard</td>\n      <td>4.62</td>\n    </tr>\n    <tr>\n      <th>10</th>\n      <td>eps</td>\n      <td>60.77</td>\n    </tr>\n    <tr>\n      <th>11</th>\n      <td>mds</td>\n      <td>50.00</td>\n    </tr>\n  </tbody>\n</table>\n</div>"
     },
     "metadata": {},
     "execution_count": 70
    }
   ],
   "source": [
    "m8(TAGS, NUMBER_OF_ISSUES)"
   ]
  },
  {
   "cell_type": "code",
   "execution_count": 71,
   "metadata": {},
   "outputs": [
    {
     "output_type": "execute_result",
     "data": {
      "text/plain": [
       "66.15"
      ]
     },
     "metadata": {},
     "execution_count": 71
    }
   ],
   "source": [
    "m9(TAGS, NUMBER_OF_ISSUES)"
   ]
  }
 ],
 "metadata": {
  "kernelspec": {
   "name": "python385jvsc74a57bd0916dbcbb3f70747c44a77c7bcd40155683ae19c65e1c03b4aa3499c5328201f1",
   "display_name": "Python 3.8.5 64-bit"
  },
  "language_info": {
   "codemirror_mode": {
    "name": "ipython",
    "version": 3
   },
   "file_extension": ".py",
   "mimetype": "text/x-python",
   "name": "python",
   "nbconvert_exporter": "python",
   "pygments_lexer": "ipython3",
   "version": "3.8.5"
  },
  "metadata": {
   "interpreter": {
    "hash": "916dbcbb3f70747c44a77c7bcd40155683ae19c65e1c03b4aa3499c5328201f1"
   }
  }
 },
 "nbformat": 4,
 "nbformat_minor": 4
}