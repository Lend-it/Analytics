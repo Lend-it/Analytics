{
 "cells": [
  {
   "cell_type": "markdown",
   "id": "0d945592",
   "metadata": {},
   "source": [
    "# Lend.it Analytics\n",
    "\n",
    "<br>\n",
    "\n",
    "<img src='./img/lendit.jpg' width=200 height=200>\n",
    "\n",
    "<br>\n",
    "\n",
    "<p align=\"justify\">\n",
    "O projeto utiliza de microsserviços, onde cada serviço abrange uma funcionalidade do <i>software</i>. Cada serviço possui seu próprio repositório, dentro da <a href=\"https://github.com/Lend-it\" title=\"Organização do Projeto Lend.it\">organização</a> do projeto:\n",
    "\n",
    "<ul>\n",
    "    <li><a href=\"https://github.com/Lend-it/Front\" title=\"Front-end\">Front</a> - Serviço responsável pela interface do usuário;</li>\n",
    "    <li><a href=\"https://github.com/Lend-it/Rating\" title=\"Organização do Projeto Lend.it\">Avaliação</a> - Serviço responsável pelo sistema de feedbacks para os usuários da aplicação;</li>\n",
    "    <li><a href=\"https://github.com/Lend-it/User\" title=\"Organização do Projeto Lend.it\">Usuário</a> - Serviço que gerencia usuários da aplicação;</li>\n",
    "    <li><a href=\"https://github.com/Lend-it/Request\" title=\"Organização do Projeto Lend.it\">Pedidos</a> - Serviço que gerencia o sistema de pedidos de empréstimos; </li>\n",
    "    <li><a href=\"https://github.com/Lend-it/Gateway\" title=\"Organização do Projeto Lend.it\">Gateway</a> - Serviço responsável por intermediar a comunicação entre o <i>Back-end</i> e o <i>Front-end</i>. </li>\n",
    "</ul>\n",
    "\n",
    "## Equipe\n",
    "\n",
    "| Nome              | Papel           | E-mail                          |\n",
    "|-------------------|-----------------|---------------------------------|\n",
    "| Rogério Júnior    | Tech Lead / AD  |     junior.rogerio8@gmail.com   |\n",
    "| Ésio Gustavo      | Product Manager |    esio.gustavo@gmail.com       |\n",
    "| Lucas Dutra       | DevOps / AD     |    ldutra98@gmail.com           |\n",
    "| Youssef Muhamad   | Arquiteto       | emaildeyoussefmuhamad@gmail.com |\n",
    "| Mateus Maia       | Desenvolvedor   |     mateusmaiamaia@hotmail.com  |\n",
    "| Matheus Afonso    | Desenvolvedor   |    matheusafonsouza@gmail.com   |\n",
    "| Matheus Monteiro  | Desenvolvedor   | matheusyanmonteiro@gmail.com    |\n",
    "| Thais Rebouças    | Desenvolvedor   | rotinasoftware@gmail.com        |\n",
    "| Thiago Mesquita   | Desenvolvedor   | thiago099carvalho@gmail.com     |\n",
    "| Vinicius Saturnino| Desenvolvedor   | viniciussaturnino07@hotmail.com |"
   ]
  },
  {
   "cell_type": "code",
   "execution_count": 1,
   "id": "0dca02c1",
   "metadata": {},
   "outputs": [
    {
     "name": "stdout",
     "output_type": "stream",
     "text": [
      "Current metadata provider: local@/home/linux/Documentos/unb/eps/code/Analytics\n"
     ]
    }
   ],
   "source": [
    "from metaflow import Flow, get_metadata\n",
    "print(\"Current metadata provider: %s\" % get_metadata())\n",
    "\n",
    "run = Flow('DataProcessing').latest_successful_run\n",
    "\n",
    "m_dfs = run.data.product_metrics_df\n",
    "issues_dfs = run.data.project_metrics_df"
   ]
  },
  {
   "cell_type": "code",
   "execution_count": 2,
   "id": "b9c33d05",
   "metadata": {},
   "outputs": [],
   "source": [
    "import matplotlib.pyplot as plt\n",
    "import seaborn as sns\n",
    "import numpy as np\n",
    "from pylab import rcParams\n",
    "\n",
    "def plot_linear_regression(df):\n",
    "    sns.regplot(x=df[\"totalAC1\"], \n",
    "                y=[i for i in range(1, len(df) + 1)], \n",
    "                line_kws={\"color\":\"r\",\"alpha\":0.7,\"lw\":5}\n",
    "    )\n",
    "    plt.show()\n",
    "    \n",
    "def plot_corr_matrix(df):\n",
    "    corr_matrix = df.corr(method=\"spearman\")\n",
    "\n",
    "    mask = np.triu(np.ones(corr_matrix.shape)).astype(np.bool)\n",
    "\n",
    "    rcParams['figure.figsize'] = 12, 12\n",
    "\n",
    "    heatmap = sns.heatmap(corr_matrix.abs(), mask = mask, square=True, linewidths=1, annot=True, \n",
    "                          vmin=0, vmax=1)\n",
    "\n",
    "def unique_plot_histogram(df, metric):\n",
    "    sns.distplot(df[metric])    "
   ]
  },
  {
   "cell_type": "markdown",
   "id": "92b0dff3",
   "metadata": {},
   "source": [
    "## Métricas de projeto"
   ]
  },
  {
   "cell_type": "markdown",
   "id": "607d2cc6",
   "metadata": {},
   "source": [
    "### User"
   ]
  },
  {
   "cell_type": "code",
   "execution_count": 3,
   "id": "85a95070",
   "metadata": {
    "scrolled": false
   },
   "outputs": [
    {
     "data": {
      "text/html": [
       "<div>\n",
       "<style scoped>\n",
       "    .dataframe tbody tr th:only-of-type {\n",
       "        vertical-align: middle;\n",
       "    }\n",
       "\n",
       "    .dataframe tbody tr th {\n",
       "        vertical-align: top;\n",
       "    }\n",
       "\n",
       "    .dataframe thead th {\n",
       "        text-align: right;\n",
       "    }\n",
       "</style>\n",
       "<table border=\"1\" class=\"dataframe\">\n",
       "  <thead>\n",
       "    <tr style=\"text-align: right;\">\n",
       "      <th></th>\n",
       "      <th>m1</th>\n",
       "      <th>m2</th>\n",
       "      <th>m3</th>\n",
       "      <th>asc1</th>\n",
       "      <th>ac1</th>\n",
       "      <th>totalAC1</th>\n",
       "      <th>ncloc</th>\n",
       "    </tr>\n",
       "  </thead>\n",
       "  <tbody>\n",
       "    <tr>\n",
       "      <th>goblinone</th>\n",
       "      <td>0.583333</td>\n",
       "      <td>0.0</td>\n",
       "      <td>1.0</td>\n",
       "      <td>0.522500</td>\n",
       "      <td>0.522500</td>\n",
       "      <td>0.522500</td>\n",
       "      <td>291</td>\n",
       "    </tr>\n",
       "    <tr>\n",
       "      <th>nunito</th>\n",
       "      <td>0.642857</td>\n",
       "      <td>0.0</td>\n",
       "      <td>1.0</td>\n",
       "      <td>0.542143</td>\n",
       "      <td>0.542143</td>\n",
       "      <td>0.542143</td>\n",
       "      <td>354</td>\n",
       "    </tr>\n",
       "    <tr>\n",
       "      <th>quicksand</th>\n",
       "      <td>0.583333</td>\n",
       "      <td>0.0</td>\n",
       "      <td>1.0</td>\n",
       "      <td>0.522500</td>\n",
       "      <td>0.522500</td>\n",
       "      <td>0.522500</td>\n",
       "      <td>291</td>\n",
       "    </tr>\n",
       "    <tr>\n",
       "      <th>raleway</th>\n",
       "      <td>0.642857</td>\n",
       "      <td>0.0</td>\n",
       "      <td>1.0</td>\n",
       "      <td>0.542143</td>\n",
       "      <td>0.542143</td>\n",
       "      <td>0.542143</td>\n",
       "      <td>354</td>\n",
       "    </tr>\n",
       "    <tr>\n",
       "      <th>rubik</th>\n",
       "      <td>0.642857</td>\n",
       "      <td>0.0</td>\n",
       "      <td>1.0</td>\n",
       "      <td>0.542143</td>\n",
       "      <td>0.542143</td>\n",
       "      <td>0.542143</td>\n",
       "      <td>354</td>\n",
       "    </tr>\n",
       "    <tr>\n",
       "      <th>zendots</th>\n",
       "      <td>0.642857</td>\n",
       "      <td>0.0</td>\n",
       "      <td>1.0</td>\n",
       "      <td>0.542143</td>\n",
       "      <td>0.542143</td>\n",
       "      <td>0.542143</td>\n",
       "      <td>354</td>\n",
       "    </tr>\n",
       "  </tbody>\n",
       "</table>\n",
       "</div>"
      ],
      "text/plain": [
       "                 m1   m2   m3      asc1       ac1  totalAC1 ncloc\n",
       "goblinone  0.583333  0.0  1.0  0.522500  0.522500  0.522500   291\n",
       "nunito     0.642857  0.0  1.0  0.542143  0.542143  0.542143   354\n",
       "quicksand  0.583333  0.0  1.0  0.522500  0.522500  0.522500   291\n",
       "raleway    0.642857  0.0  1.0  0.542143  0.542143  0.542143   354\n",
       "rubik      0.642857  0.0  1.0  0.542143  0.542143  0.542143   354\n",
       "zendots    0.642857  0.0  1.0  0.542143  0.542143  0.542143   354"
      ]
     },
     "execution_count": 3,
     "metadata": {},
     "output_type": "execute_result"
    }
   ],
   "source": [
    "m_dfs['user']['metrics']"
   ]
  },
  {
   "cell_type": "markdown",
   "id": "3bbe478e",
   "metadata": {},
   "source": [
    "#### Regressão linear"
   ]
  },
  {
   "cell_type": "code",
   "execution_count": 4,
   "id": "7785b483",
   "metadata": {},
   "outputs": [
    {
     "data": {
      "image/png": "[encoded data removed]",
      "text/plain": [
       "<Figure size 432x288 with 1 Axes>"
      ]
     },
     "metadata": {
      "needs_background": "light"
     },
     "output_type": "display_data"
    }
   ],
   "source": [
    "plot_linear_regression(m_dfs['user']['metrics'])"
   ]
  },
  {
   "cell_type": "markdown",
   "id": "c88671c9",
   "metadata": {},
   "source": [
    "#### Matriz de correlação"
   ]
  },
  {
   "cell_type": "code",
   "execution_count": 5,
   "id": "87e1b116",
   "metadata": {
    "scrolled": false
   },
   "outputs": [
    {
     "name": "stderr",
     "output_type": "stream",
     "text": [
      "<ipython-input-2-c62a57b12cbd>:16: DeprecationWarning: `np.bool` is a deprecated alias for the builtin `bool`. To silence this warning, use `bool` by itself. Doing this will not modify any behavior and is safe. If you specifically wanted the numpy scalar type, use `np.bool_` here.\n",
      "Deprecated in NumPy 1.20; for more details and guidance: https://numpy.org/devdocs/release/1.20.0-notes.html#deprecations\n",
      "  mask = np.triu(np.ones(corr_matrix.shape)).astype(np.bool)\n"
     ]
    },
    {
     "data": {
      "image/png": "[encoded data removed]",
      "text/plain": [
       "<Figure size 864x864 with 2 Axes>"
      ]
     },
     "metadata": {
      "needs_background": "light"
     },
     "output_type": "display_data"
    }
   ],
   "source": [
    "plot_corr_matrix(m_dfs['user']['metrics'])"
   ]
  },
  {
   "cell_type": "markdown",
   "id": "a30665ca",
   "metadata": {},
   "source": [
    "#### Histograma AC1"
   ]
  },
  {
   "cell_type": "code",
   "execution_count": 6,
   "id": "80105d63",
   "metadata": {},
   "outputs": [
    {
     "name": "stderr",
     "output_type": "stream",
     "text": [
      "/home/linux/Documentos/unb/eps/code/Analytics/venv/lib/python3.8/site-packages/seaborn/distributions.py:2557: FutureWarning: `distplot` is a deprecated function and will be removed in a future version. Please adapt your code to use either `displot` (a figure-level function with similar flexibility) or `histplot` (an axes-level function for histograms).\n",
      "  warnings.warn(msg, FutureWarning)\n"
     ]
    },
    {
     "data": {
      "image/png": "[encoded data removed]",
      "text/plain": [
       "<Figure size 864x864 with 1 Axes>"
      ]
     },
     "metadata": {
      "needs_background": "light"
     },
     "output_type": "display_data"
    }
   ],
   "source": [
    "unique_plot_histogram(m_dfs['user']['metrics'], \"ac1\")"
   ]
  },
  {
   "cell_type": "markdown",
   "id": "516571f8",
   "metadata": {},
   "source": [
    "#### Box Plot"
   ]
  },
  {
   "cell_type": "code",
   "execution_count": 7,
   "id": "afd822ff",
   "metadata": {
    "scrolled": false
   },
   "outputs": [
    {
     "data": {
      "image/png": "[encoded data removed]",
      "text/plain": [
       "<Figure size 864x864 with 1 Axes>"
      ]
     },
     "metadata": {
      "needs_background": "light"
     },
     "output_type": "display_data"
    }
   ],
   "source": [
    "boxplot = m_dfs['user']['metrics'].boxplot(column=['m1', 'm2', 'm3', 'asc1', 'ac1', 'totalAC1'])"
   ]
  },
  {
   "cell_type": "markdown",
   "id": "e9065a5b",
   "metadata": {},
   "source": [
    "#### Estatística descritiva"
   ]
  },
  {
   "cell_type": "code",
   "execution_count": 8,
   "id": "79a8ce80",
   "metadata": {
    "scrolled": true
   },
   "outputs": [
    {
     "data": {
      "text/html": [
       "<div>\n",
       "<style scoped>\n",
       "    .dataframe tbody tr th:only-of-type {\n",
       "        vertical-align: middle;\n",
       "    }\n",
       "\n",
       "    .dataframe tbody tr th {\n",
       "        vertical-align: top;\n",
       "    }\n",
       "\n",
       "    .dataframe thead th {\n",
       "        text-align: right;\n",
       "    }\n",
       "</style>\n",
       "<table border=\"1\" class=\"dataframe\">\n",
       "  <thead>\n",
       "    <tr style=\"text-align: right;\">\n",
       "      <th></th>\n",
       "      <th>m1</th>\n",
       "      <th>m2</th>\n",
       "      <th>m3</th>\n",
       "    </tr>\n",
       "  </thead>\n",
       "  <tbody>\n",
       "    <tr>\n",
       "      <th>mean</th>\n",
       "      <td>0.623016</td>\n",
       "      <td>0.0</td>\n",
       "      <td>1.0</td>\n",
       "    </tr>\n",
       "    <tr>\n",
       "      <th>mode</th>\n",
       "      <td>0.642857</td>\n",
       "      <td>0.0</td>\n",
       "      <td>1.0</td>\n",
       "    </tr>\n",
       "    <tr>\n",
       "      <th>25%</th>\n",
       "      <td>0.598214</td>\n",
       "      <td>0.0</td>\n",
       "      <td>1.0</td>\n",
       "    </tr>\n",
       "    <tr>\n",
       "      <th>50%</th>\n",
       "      <td>0.642857</td>\n",
       "      <td>0.0</td>\n",
       "      <td>1.0</td>\n",
       "    </tr>\n",
       "    <tr>\n",
       "      <th>75%</th>\n",
       "      <td>0.642857</td>\n",
       "      <td>0.0</td>\n",
       "      <td>1.0</td>\n",
       "    </tr>\n",
       "    <tr>\n",
       "      <th>standart_deviation</th>\n",
       "      <td>0.030738</td>\n",
       "      <td>0.0</td>\n",
       "      <td>0.0</td>\n",
       "    </tr>\n",
       "    <tr>\n",
       "      <th>variance</th>\n",
       "      <td>0.000945</td>\n",
       "      <td>0.0</td>\n",
       "      <td>0.0</td>\n",
       "    </tr>\n",
       "    <tr>\n",
       "      <th>min</th>\n",
       "      <td>0.583333</td>\n",
       "      <td>0.0</td>\n",
       "      <td>1.0</td>\n",
       "    </tr>\n",
       "    <tr>\n",
       "      <th>max</th>\n",
       "      <td>0.642857</td>\n",
       "      <td>0.0</td>\n",
       "      <td>1.0</td>\n",
       "    </tr>\n",
       "  </tbody>\n",
       "</table>\n",
       "</div>"
      ],
      "text/plain": [
       "                          m1   m2   m3\n",
       "mean                0.623016  0.0  1.0\n",
       "mode                0.642857  0.0  1.0\n",
       "25%                 0.598214  0.0  1.0\n",
       "50%                 0.642857  0.0  1.0\n",
       "75%                 0.642857  0.0  1.0\n",
       "standart_deviation  0.030738  0.0  0.0\n",
       "variance            0.000945  0.0  0.0\n",
       "min                 0.583333  0.0  1.0\n",
       "max                 0.642857  0.0  1.0"
      ]
     },
     "execution_count": 8,
     "metadata": {},
     "output_type": "execute_result"
    }
   ],
   "source": [
    "m_dfs['user']['descriptive']"
   ]
  },
  {
   "cell_type": "markdown",
   "id": "0b84b623",
   "metadata": {},
   "source": [
    "### Gateway"
   ]
  },
  {
   "cell_type": "code",
   "execution_count": 9,
   "id": "6133bbbf",
   "metadata": {
    "scrolled": true
   },
   "outputs": [
    {
     "data": {
      "text/html": [
       "<div>\n",
       "<style scoped>\n",
       "    .dataframe tbody tr th:only-of-type {\n",
       "        vertical-align: middle;\n",
       "    }\n",
       "\n",
       "    .dataframe tbody tr th {\n",
       "        vertical-align: top;\n",
       "    }\n",
       "\n",
       "    .dataframe thead th {\n",
       "        text-align: right;\n",
       "    }\n",
       "</style>\n",
       "<table border=\"1\" class=\"dataframe\">\n",
       "  <thead>\n",
       "    <tr style=\"text-align: right;\">\n",
       "      <th></th>\n",
       "      <th>m1</th>\n",
       "      <th>m2</th>\n",
       "      <th>m3</th>\n",
       "      <th>asc1</th>\n",
       "      <th>ac1</th>\n",
       "      <th>totalAC1</th>\n",
       "      <th>ncloc</th>\n",
       "    </tr>\n",
       "  </thead>\n",
       "  <tbody>\n",
       "    <tr>\n",
       "      <th>goblinone</th>\n",
       "      <td>0.454545</td>\n",
       "      <td>0.0</td>\n",
       "      <td>1.0</td>\n",
       "      <td>0.480000</td>\n",
       "      <td>0.480000</td>\n",
       "      <td>0.480000</td>\n",
       "      <td>214</td>\n",
       "    </tr>\n",
       "    <tr>\n",
       "      <th>nunito</th>\n",
       "      <td>0.500000</td>\n",
       "      <td>0.0</td>\n",
       "      <td>1.0</td>\n",
       "      <td>0.495000</td>\n",
       "      <td>0.495000</td>\n",
       "      <td>0.495000</td>\n",
       "      <td>270</td>\n",
       "    </tr>\n",
       "    <tr>\n",
       "      <th>quicksand</th>\n",
       "      <td>0.454545</td>\n",
       "      <td>0.0</td>\n",
       "      <td>1.0</td>\n",
       "      <td>0.480000</td>\n",
       "      <td>0.480000</td>\n",
       "      <td>0.480000</td>\n",
       "      <td>214</td>\n",
       "    </tr>\n",
       "    <tr>\n",
       "      <th>raleway</th>\n",
       "      <td>0.454545</td>\n",
       "      <td>0.0</td>\n",
       "      <td>1.0</td>\n",
       "      <td>0.480000</td>\n",
       "      <td>0.480000</td>\n",
       "      <td>0.480000</td>\n",
       "      <td>216</td>\n",
       "    </tr>\n",
       "    <tr>\n",
       "      <th>rubik</th>\n",
       "      <td>0.538462</td>\n",
       "      <td>0.0</td>\n",
       "      <td>1.0</td>\n",
       "      <td>0.507692</td>\n",
       "      <td>0.507692</td>\n",
       "      <td>0.507692</td>\n",
       "      <td>343</td>\n",
       "    </tr>\n",
       "    <tr>\n",
       "      <th>zendots</th>\n",
       "      <td>0.538462</td>\n",
       "      <td>0.0</td>\n",
       "      <td>1.0</td>\n",
       "      <td>0.507692</td>\n",
       "      <td>0.507692</td>\n",
       "      <td>0.507692</td>\n",
       "      <td>343</td>\n",
       "    </tr>\n",
       "  </tbody>\n",
       "</table>\n",
       "</div>"
      ],
      "text/plain": [
       "                 m1   m2   m3      asc1       ac1  totalAC1 ncloc\n",
       "goblinone  0.454545  0.0  1.0  0.480000  0.480000  0.480000   214\n",
       "nunito     0.500000  0.0  1.0  0.495000  0.495000  0.495000   270\n",
       "quicksand  0.454545  0.0  1.0  0.480000  0.480000  0.480000   214\n",
       "raleway    0.454545  0.0  1.0  0.480000  0.480000  0.480000   216\n",
       "rubik      0.538462  0.0  1.0  0.507692  0.507692  0.507692   343\n",
       "zendots    0.538462  0.0  1.0  0.507692  0.507692  0.507692   343"
      ]
     },
     "execution_count": 9,
     "metadata": {},
     "output_type": "execute_result"
    }
   ],
   "source": [
    "m_dfs['gateway']['metrics']"
   ]
  },
  {
   "cell_type": "markdown",
   "id": "4af62b4d",
   "metadata": {},
   "source": [
    "#### Regressão linear"
   ]
  },
  {
   "cell_type": "code",
   "execution_count": 10,
   "id": "bf4db936",
   "metadata": {
    "scrolled": false
   },
   "outputs": [
    {
     "data": {
      "image/png": "[encoded data removed]",
      "text/plain": [
       "<Figure size 864x864 with 1 Axes>"
      ]
     },
     "metadata": {
      "needs_background": "light"
     },
     "output_type": "display_data"
    }
   ],
   "source": [
    "plot_linear_regression(m_dfs['gateway']['metrics'])"
   ]
  },
  {
   "cell_type": "markdown",
   "id": "13e07316",
   "metadata": {},
   "source": [
    "#### Matriz de correlação"
   ]
  },
  {
   "cell_type": "code",
   "execution_count": 11,
   "id": "fbdd13fc",
   "metadata": {
    "scrolled": false
   },
   "outputs": [
    {
     "name": "stderr",
     "output_type": "stream",
     "text": [
      "<ipython-input-2-c62a57b12cbd>:16: DeprecationWarning: `np.bool` is a deprecated alias for the builtin `bool`. To silence this warning, use `bool` by itself. Doing this will not modify any behavior and is safe. If you specifically wanted the numpy scalar type, use `np.bool_` here.\n",
      "Deprecated in NumPy 1.20; for more details and guidance: https://numpy.org/devdocs/release/1.20.0-notes.html#deprecations\n",
      "  mask = np.triu(np.ones(corr_matrix.shape)).astype(np.bool)\n"
     ]
    },
    {
     "data": {
      "image/png": "[encoded data removed]",
      "text/plain": [
       "<Figure size 864x864 with 2 Axes>"
      ]
     },
     "metadata": {
      "needs_background": "light"
     },
     "output_type": "display_data"
    }
   ],
   "source": [
    "plot_corr_matrix(m_dfs['gateway']['metrics'])"
   ]
  },
  {
   "cell_type": "markdown",
   "id": "4d9b94f6",
   "metadata": {},
   "source": [
    "#### Histograma AC1"
   ]
  },
  {
   "cell_type": "code",
   "execution_count": 12,
   "id": "dd2b804c",
   "metadata": {},
   "outputs": [
    {
     "name": "stderr",
     "output_type": "stream",
     "text": [
      "/home/linux/Documentos/unb/eps/code/Analytics/venv/lib/python3.8/site-packages/seaborn/distributions.py:2557: FutureWarning: `distplot` is a deprecated function and will be removed in a future version. Please adapt your code to use either `displot` (a figure-level function with similar flexibility) or `histplot` (an axes-level function for histograms).\n",
      "  warnings.warn(msg, FutureWarning)\n"
     ]
    },
    {
     "data": {
      "image/png": "[encoded data removed]",
      "text/plain": [
       "<Figure size 864x864 with 1 Axes>"
      ]
     },
     "metadata": {
      "needs_background": "light"
     },
     "output_type": "display_data"
    }
   ],
   "source": [
    "unique_plot_histogram(m_dfs['gateway']['metrics'], \"ac1\")"
   ]
  },
  {
   "cell_type": "markdown",
   "id": "e64157a0",
   "metadata": {},
   "source": [
    "#### Box Plot"
   ]
  },
  {
   "cell_type": "code",
   "execution_count": 13,
   "id": "ce1f39d3",
   "metadata": {},
   "outputs": [
    {
     "data": {
      "image/png": "[encoded data removed]",
      "text/plain": [
       "<Figure size 864x864 with 1 Axes>"
      ]
     },
     "metadata": {
      "needs_background": "light"
     },
     "output_type": "display_data"
    }
   ],
   "source": [
    "boxplot = m_dfs['gateway']['metrics'].boxplot(column=['m1', 'm2', 'm3', 'asc1', 'ac1', 'totalAC1'])"
   ]
  },
  {
   "cell_type": "markdown",
   "id": "528287f1",
   "metadata": {},
   "source": [
    "#### Estatística descritiva"
   ]
  },
  {
   "cell_type": "code",
   "execution_count": 14,
   "id": "79b2b88e",
   "metadata": {},
   "outputs": [
    {
     "data": {
      "text/html": [
       "<div>\n",
       "<style scoped>\n",
       "    .dataframe tbody tr th:only-of-type {\n",
       "        vertical-align: middle;\n",
       "    }\n",
       "\n",
       "    .dataframe tbody tr th {\n",
       "        vertical-align: top;\n",
       "    }\n",
       "\n",
       "    .dataframe thead th {\n",
       "        text-align: right;\n",
       "    }\n",
       "</style>\n",
       "<table border=\"1\" class=\"dataframe\">\n",
       "  <thead>\n",
       "    <tr style=\"text-align: right;\">\n",
       "      <th></th>\n",
       "      <th>m1</th>\n",
       "      <th>m2</th>\n",
       "      <th>m3</th>\n",
       "    </tr>\n",
       "  </thead>\n",
       "  <tbody>\n",
       "    <tr>\n",
       "      <th>mean</th>\n",
       "      <td>0.490093</td>\n",
       "      <td>0.0</td>\n",
       "      <td>1.0</td>\n",
       "    </tr>\n",
       "    <tr>\n",
       "      <th>mode</th>\n",
       "      <td>0.454545</td>\n",
       "      <td>0.0</td>\n",
       "      <td>1.0</td>\n",
       "    </tr>\n",
       "    <tr>\n",
       "      <th>25%</th>\n",
       "      <td>0.454545</td>\n",
       "      <td>0.0</td>\n",
       "      <td>1.0</td>\n",
       "    </tr>\n",
       "    <tr>\n",
       "      <th>50%</th>\n",
       "      <td>0.477273</td>\n",
       "      <td>0.0</td>\n",
       "      <td>1.0</td>\n",
       "    </tr>\n",
       "    <tr>\n",
       "      <th>75%</th>\n",
       "      <td>0.528846</td>\n",
       "      <td>0.0</td>\n",
       "      <td>1.0</td>\n",
       "    </tr>\n",
       "    <tr>\n",
       "      <th>standart_deviation</th>\n",
       "      <td>0.041396</td>\n",
       "      <td>0.0</td>\n",
       "      <td>0.0</td>\n",
       "    </tr>\n",
       "    <tr>\n",
       "      <th>variance</th>\n",
       "      <td>0.001714</td>\n",
       "      <td>0.0</td>\n",
       "      <td>0.0</td>\n",
       "    </tr>\n",
       "    <tr>\n",
       "      <th>min</th>\n",
       "      <td>0.454545</td>\n",
       "      <td>0.0</td>\n",
       "      <td>1.0</td>\n",
       "    </tr>\n",
       "    <tr>\n",
       "      <th>max</th>\n",
       "      <td>0.538462</td>\n",
       "      <td>0.0</td>\n",
       "      <td>1.0</td>\n",
       "    </tr>\n",
       "  </tbody>\n",
       "</table>\n",
       "</div>"
      ],
      "text/plain": [
       "                          m1   m2   m3\n",
       "mean                0.490093  0.0  1.0\n",
       "mode                0.454545  0.0  1.0\n",
       "25%                 0.454545  0.0  1.0\n",
       "50%                 0.477273  0.0  1.0\n",
       "75%                 0.528846  0.0  1.0\n",
       "standart_deviation  0.041396  0.0  0.0\n",
       "variance            0.001714  0.0  0.0\n",
       "min                 0.454545  0.0  1.0\n",
       "max                 0.538462  0.0  1.0"
      ]
     },
     "execution_count": 14,
     "metadata": {},
     "output_type": "execute_result"
    }
   ],
   "source": [
    "m_dfs['gateway']['descriptive']"
   ]
  },
  {
   "cell_type": "markdown",
   "id": "73e62980",
   "metadata": {},
   "source": [
    "### Request"
   ]
  },
  {
   "cell_type": "code",
   "execution_count": 15,
   "id": "2e49fe77",
   "metadata": {
    "scrolled": true
   },
   "outputs": [
    {
     "data": {
      "text/html": [
       "<div>\n",
       "<style scoped>\n",
       "    .dataframe tbody tr th:only-of-type {\n",
       "        vertical-align: middle;\n",
       "    }\n",
       "\n",
       "    .dataframe tbody tr th {\n",
       "        vertical-align: top;\n",
       "    }\n",
       "\n",
       "    .dataframe thead th {\n",
       "        text-align: right;\n",
       "    }\n",
       "</style>\n",
       "<table border=\"1\" class=\"dataframe\">\n",
       "  <thead>\n",
       "    <tr style=\"text-align: right;\">\n",
       "      <th></th>\n",
       "      <th>m1</th>\n",
       "      <th>m2</th>\n",
       "      <th>m3</th>\n",
       "      <th>asc1</th>\n",
       "      <th>ac1</th>\n",
       "      <th>totalAC1</th>\n",
       "      <th>ncloc</th>\n",
       "    </tr>\n",
       "  </thead>\n",
       "  <tbody>\n",
       "    <tr>\n",
       "      <th>goblinone</th>\n",
       "      <td>0.769231</td>\n",
       "      <td>0.230769</td>\n",
       "      <td>1.0</td>\n",
       "      <td>0.66</td>\n",
       "      <td>0.66</td>\n",
       "      <td>0.66</td>\n",
       "      <td>481</td>\n",
       "    </tr>\n",
       "    <tr>\n",
       "      <th>nunito</th>\n",
       "      <td>0.800000</td>\n",
       "      <td>0.200000</td>\n",
       "      <td>1.0</td>\n",
       "      <td>0.66</td>\n",
       "      <td>0.66</td>\n",
       "      <td>0.66</td>\n",
       "      <td>816</td>\n",
       "    </tr>\n",
       "    <tr>\n",
       "      <th>quicksand</th>\n",
       "      <td>0.769231</td>\n",
       "      <td>0.230769</td>\n",
       "      <td>1.0</td>\n",
       "      <td>0.66</td>\n",
       "      <td>0.66</td>\n",
       "      <td>0.66</td>\n",
       "      <td>481</td>\n",
       "    </tr>\n",
       "    <tr>\n",
       "      <th>raleway</th>\n",
       "      <td>0.800000</td>\n",
       "      <td>0.200000</td>\n",
       "      <td>1.0</td>\n",
       "      <td>0.66</td>\n",
       "      <td>0.66</td>\n",
       "      <td>0.66</td>\n",
       "      <td>816</td>\n",
       "    </tr>\n",
       "    <tr>\n",
       "      <th>rubik</th>\n",
       "      <td>0.800000</td>\n",
       "      <td>0.200000</td>\n",
       "      <td>1.0</td>\n",
       "      <td>0.66</td>\n",
       "      <td>0.66</td>\n",
       "      <td>0.66</td>\n",
       "      <td>835</td>\n",
       "    </tr>\n",
       "    <tr>\n",
       "      <th>zendots</th>\n",
       "      <td>0.800000</td>\n",
       "      <td>0.200000</td>\n",
       "      <td>1.0</td>\n",
       "      <td>0.66</td>\n",
       "      <td>0.66</td>\n",
       "      <td>0.66</td>\n",
       "      <td>816</td>\n",
       "    </tr>\n",
       "  </tbody>\n",
       "</table>\n",
       "</div>"
      ],
      "text/plain": [
       "                 m1        m2   m3  asc1   ac1  totalAC1 ncloc\n",
       "goblinone  0.769231  0.230769  1.0  0.66  0.66      0.66   481\n",
       "nunito     0.800000  0.200000  1.0  0.66  0.66      0.66   816\n",
       "quicksand  0.769231  0.230769  1.0  0.66  0.66      0.66   481\n",
       "raleway    0.800000  0.200000  1.0  0.66  0.66      0.66   816\n",
       "rubik      0.800000  0.200000  1.0  0.66  0.66      0.66   835\n",
       "zendots    0.800000  0.200000  1.0  0.66  0.66      0.66   816"
      ]
     },
     "execution_count": 15,
     "metadata": {},
     "output_type": "execute_result"
    }
   ],
   "source": [
    "m_dfs['request']['metrics']"
   ]
  },
  {
   "cell_type": "markdown",
   "id": "ff12b32d",
   "metadata": {},
   "source": [
    "#### Regressão linear"
   ]
  },
  {
   "cell_type": "code",
   "execution_count": 16,
   "id": "e6d2b430",
   "metadata": {
    "scrolled": false
   },
   "outputs": [
    {
     "data": {
      "image/png": "[encoded data removed]",
      "text/plain": [
       "<Figure size 864x864 with 1 Axes>"
      ]
     },
     "metadata": {
      "needs_background": "light"
     },
     "output_type": "display_data"
    }
   ],
   "source": [
    "plot_linear_regression(m_dfs['request']['metrics'])"
   ]
  },
  {
   "cell_type": "markdown",
   "id": "df9a0633",
   "metadata": {},
   "source": [
    "#### Matriz de correlação"
   ]
  },
  {
   "cell_type": "code",
   "execution_count": 17,
   "id": "f066f06e",
   "metadata": {},
   "outputs": [
    {
     "name": "stderr",
     "output_type": "stream",
     "text": [
      "<ipython-input-2-c62a57b12cbd>:16: DeprecationWarning: `np.bool` is a deprecated alias for the builtin `bool`. To silence this warning, use `bool` by itself. Doing this will not modify any behavior and is safe. If you specifically wanted the numpy scalar type, use `np.bool_` here.\n",
      "Deprecated in NumPy 1.20; for more details and guidance: https://numpy.org/devdocs/release/1.20.0-notes.html#deprecations\n",
      "  mask = np.triu(np.ones(corr_matrix.shape)).astype(np.bool)\n"
     ]
    },
    {
     "data": {
      "image/png": "[encoded data removed]",
      "text/plain": [
       "<Figure size 864x864 with 2 Axes>"
      ]
     },
     "metadata": {
      "needs_background": "light"
     },
     "output_type": "display_data"
    }
   ],
   "source": [
    "plot_corr_matrix(m_dfs['request']['metrics'])"
   ]
  },
  {
   "cell_type": "markdown",
   "id": "1e1b87b6",
   "metadata": {},
   "source": [
    "#### Histograma AC1"
   ]
  },
  {
   "cell_type": "code",
   "execution_count": 18,
   "id": "beb5bbd8",
   "metadata": {},
   "outputs": [
    {
     "name": "stderr",
     "output_type": "stream",
     "text": [
      "/home/linux/Documentos/unb/eps/code/Analytics/venv/lib/python3.8/site-packages/seaborn/distributions.py:2557: FutureWarning: `distplot` is a deprecated function and will be removed in a future version. Please adapt your code to use either `displot` (a figure-level function with similar flexibility) or `histplot` (an axes-level function for histograms).\n",
      "  warnings.warn(msg, FutureWarning)\n"
     ]
    },
    {
     "data": {
      "image/png": "[encoded data removed]",
      "text/plain": [
       "<Figure size 864x864 with 1 Axes>"
      ]
     },
     "metadata": {
      "needs_background": "light"
     },
     "output_type": "display_data"
    }
   ],
   "source": [
    "unique_plot_histogram(m_dfs['request']['metrics'], \"ac1\")"
   ]
  },
  {
   "cell_type": "markdown",
   "id": "b30265a2",
   "metadata": {},
   "source": [
    "#### Box Plot"
   ]
  },
  {
   "cell_type": "code",
   "execution_count": 19,
   "id": "a404bef1",
   "metadata": {
    "scrolled": false
   },
   "outputs": [
    {
     "data": {
      "image/png": "[encoded data removed]",
      "text/plain": [
       "<Figure size 864x864 with 1 Axes>"
      ]
     },
     "metadata": {
      "needs_background": "light"
     },
     "output_type": "display_data"
    }
   ],
   "source": [
    "boxplot = m_dfs['request']['metrics'].boxplot(column=['m1', 'm2', 'm3', 'asc1', 'ac1', 'totalAC1'])"
   ]
  },
  {
   "cell_type": "markdown",
   "id": "f7ed5e37",
   "metadata": {},
   "source": [
    "#### Estatística descritiva"
   ]
  },
  {
   "cell_type": "code",
   "execution_count": 20,
   "id": "d31ce248",
   "metadata": {},
   "outputs": [
    {
     "data": {
      "text/html": [
       "<div>\n",
       "<style scoped>\n",
       "    .dataframe tbody tr th:only-of-type {\n",
       "        vertical-align: middle;\n",
       "    }\n",
       "\n",
       "    .dataframe tbody tr th {\n",
       "        vertical-align: top;\n",
       "    }\n",
       "\n",
       "    .dataframe thead th {\n",
       "        text-align: right;\n",
       "    }\n",
       "</style>\n",
       "<table border=\"1\" class=\"dataframe\">\n",
       "  <thead>\n",
       "    <tr style=\"text-align: right;\">\n",
       "      <th></th>\n",
       "      <th>m1</th>\n",
       "      <th>m2</th>\n",
       "      <th>m3</th>\n",
       "    </tr>\n",
       "  </thead>\n",
       "  <tbody>\n",
       "    <tr>\n",
       "      <th>mean</th>\n",
       "      <td>0.789744</td>\n",
       "      <td>0.210256</td>\n",
       "      <td>1.0</td>\n",
       "    </tr>\n",
       "    <tr>\n",
       "      <th>mode</th>\n",
       "      <td>0.800000</td>\n",
       "      <td>0.200000</td>\n",
       "      <td>1.0</td>\n",
       "    </tr>\n",
       "    <tr>\n",
       "      <th>25%</th>\n",
       "      <td>0.776923</td>\n",
       "      <td>0.200000</td>\n",
       "      <td>1.0</td>\n",
       "    </tr>\n",
       "    <tr>\n",
       "      <th>50%</th>\n",
       "      <td>0.800000</td>\n",
       "      <td>0.200000</td>\n",
       "      <td>1.0</td>\n",
       "    </tr>\n",
       "    <tr>\n",
       "      <th>75%</th>\n",
       "      <td>0.800000</td>\n",
       "      <td>0.223077</td>\n",
       "      <td>1.0</td>\n",
       "    </tr>\n",
       "    <tr>\n",
       "      <th>standart_deviation</th>\n",
       "      <td>0.015889</td>\n",
       "      <td>0.015889</td>\n",
       "      <td>0.0</td>\n",
       "    </tr>\n",
       "    <tr>\n",
       "      <th>variance</th>\n",
       "      <td>0.000252</td>\n",
       "      <td>0.000252</td>\n",
       "      <td>0.0</td>\n",
       "    </tr>\n",
       "    <tr>\n",
       "      <th>min</th>\n",
       "      <td>0.769231</td>\n",
       "      <td>0.200000</td>\n",
       "      <td>1.0</td>\n",
       "    </tr>\n",
       "    <tr>\n",
       "      <th>max</th>\n",
       "      <td>0.800000</td>\n",
       "      <td>0.230769</td>\n",
       "      <td>1.0</td>\n",
       "    </tr>\n",
       "  </tbody>\n",
       "</table>\n",
       "</div>"
      ],
      "text/plain": [
       "                          m1        m2   m3\n",
       "mean                0.789744  0.210256  1.0\n",
       "mode                0.800000  0.200000  1.0\n",
       "25%                 0.776923  0.200000  1.0\n",
       "50%                 0.800000  0.200000  1.0\n",
       "75%                 0.800000  0.223077  1.0\n",
       "standart_deviation  0.015889  0.015889  0.0\n",
       "variance            0.000252  0.000252  0.0\n",
       "min                 0.769231  0.200000  1.0\n",
       "max                 0.800000  0.230769  1.0"
      ]
     },
     "execution_count": 20,
     "metadata": {},
     "output_type": "execute_result"
    }
   ],
   "source": [
    "m_dfs['request']['descriptive']"
   ]
  },
  {
   "cell_type": "markdown",
   "id": "6b5ee14e",
   "metadata": {},
   "source": [
    "### Rating"
   ]
  },
  {
   "cell_type": "code",
   "execution_count": 21,
   "id": "c2d50f5d",
   "metadata": {
    "scrolled": true
   },
   "outputs": [
    {
     "data": {
      "text/html": [
       "<div>\n",
       "<style scoped>\n",
       "    .dataframe tbody tr th:only-of-type {\n",
       "        vertical-align: middle;\n",
       "    }\n",
       "\n",
       "    .dataframe tbody tr th {\n",
       "        vertical-align: top;\n",
       "    }\n",
       "\n",
       "    .dataframe thead th {\n",
       "        text-align: right;\n",
       "    }\n",
       "</style>\n",
       "<table border=\"1\" class=\"dataframe\">\n",
       "  <thead>\n",
       "    <tr style=\"text-align: right;\">\n",
       "      <th></th>\n",
       "      <th>m1</th>\n",
       "      <th>m2</th>\n",
       "      <th>m3</th>\n",
       "      <th>asc1</th>\n",
       "      <th>ac1</th>\n",
       "      <th>totalAC1</th>\n",
       "      <th>ncloc</th>\n",
       "    </tr>\n",
       "  </thead>\n",
       "  <tbody>\n",
       "    <tr>\n",
       "      <th>goblinone</th>\n",
       "      <td>0.750000</td>\n",
       "      <td>0.250000</td>\n",
       "      <td>1.0</td>\n",
       "      <td>0.66</td>\n",
       "      <td>0.66</td>\n",
       "      <td>0.66</td>\n",
       "      <td>315</td>\n",
       "    </tr>\n",
       "    <tr>\n",
       "      <th>nunito</th>\n",
       "      <td>0.727273</td>\n",
       "      <td>0.272727</td>\n",
       "      <td>1.0</td>\n",
       "      <td>0.66</td>\n",
       "      <td>0.66</td>\n",
       "      <td>0.66</td>\n",
       "      <td>238</td>\n",
       "    </tr>\n",
       "    <tr>\n",
       "      <th>quicksand</th>\n",
       "      <td>0.750000</td>\n",
       "      <td>0.250000</td>\n",
       "      <td>1.0</td>\n",
       "      <td>0.66</td>\n",
       "      <td>0.66</td>\n",
       "      <td>0.66</td>\n",
       "      <td>315</td>\n",
       "    </tr>\n",
       "    <tr>\n",
       "      <th>raleway</th>\n",
       "      <td>0.727273</td>\n",
       "      <td>0.272727</td>\n",
       "      <td>1.0</td>\n",
       "      <td>0.66</td>\n",
       "      <td>0.66</td>\n",
       "      <td>0.66</td>\n",
       "      <td>238</td>\n",
       "    </tr>\n",
       "    <tr>\n",
       "      <th>rubik</th>\n",
       "      <td>0.769231</td>\n",
       "      <td>0.230769</td>\n",
       "      <td>1.0</td>\n",
       "      <td>0.66</td>\n",
       "      <td>0.66</td>\n",
       "      <td>0.66</td>\n",
       "      <td>356</td>\n",
       "    </tr>\n",
       "    <tr>\n",
       "      <th>zendots</th>\n",
       "      <td>0.769231</td>\n",
       "      <td>0.230769</td>\n",
       "      <td>1.0</td>\n",
       "      <td>0.66</td>\n",
       "      <td>0.66</td>\n",
       "      <td>0.66</td>\n",
       "      <td>356</td>\n",
       "    </tr>\n",
       "  </tbody>\n",
       "</table>\n",
       "</div>"
      ],
      "text/plain": [
       "                 m1        m2   m3  asc1   ac1  totalAC1 ncloc\n",
       "goblinone  0.750000  0.250000  1.0  0.66  0.66      0.66   315\n",
       "nunito     0.727273  0.272727  1.0  0.66  0.66      0.66   238\n",
       "quicksand  0.750000  0.250000  1.0  0.66  0.66      0.66   315\n",
       "raleway    0.727273  0.272727  1.0  0.66  0.66      0.66   238\n",
       "rubik      0.769231  0.230769  1.0  0.66  0.66      0.66   356\n",
       "zendots    0.769231  0.230769  1.0  0.66  0.66      0.66   356"
      ]
     },
     "execution_count": 21,
     "metadata": {},
     "output_type": "execute_result"
    }
   ],
   "source": [
    "m_dfs['rating']['metrics']"
   ]
  },
  {
   "cell_type": "markdown",
   "id": "a3924ee2",
   "metadata": {},
   "source": [
    "#### Regressão linear"
   ]
  },
  {
   "cell_type": "code",
   "execution_count": 22,
   "id": "81677d80",
   "metadata": {
    "scrolled": false
   },
   "outputs": [
    {
     "data": {
      "image/png": "[encoded data removed]",
      "text/plain": [
       "<Figure size 864x864 with 1 Axes>"
      ]
     },
     "metadata": {
      "needs_background": "light"
     },
     "output_type": "display_data"
    }
   ],
   "source": [
    "plot_linear_regression(m_dfs['rating']['metrics'])"
   ]
  },
  {
   "cell_type": "markdown",
   "id": "8b9b21c4",
   "metadata": {},
   "source": [
    "#### Matriz correlação"
   ]
  },
  {
   "cell_type": "code",
   "execution_count": 23,
   "id": "2eb3017c",
   "metadata": {},
   "outputs": [
    {
     "name": "stderr",
     "output_type": "stream",
     "text": [
      "<ipython-input-2-c62a57b12cbd>:16: DeprecationWarning: `np.bool` is a deprecated alias for the builtin `bool`. To silence this warning, use `bool` by itself. Doing this will not modify any behavior and is safe. If you specifically wanted the numpy scalar type, use `np.bool_` here.\n",
      "Deprecated in NumPy 1.20; for more details and guidance: https://numpy.org/devdocs/release/1.20.0-notes.html#deprecations\n",
      "  mask = np.triu(np.ones(corr_matrix.shape)).astype(np.bool)\n"
     ]
    },
    {
     "data": {
      "image/png": "[encoded data removed]",
      "text/plain": [
       "<Figure size 864x864 with 2 Axes>"
      ]
     },
     "metadata": {
      "needs_background": "light"
     },
     "output_type": "display_data"
    }
   ],
   "source": [
    "plot_corr_matrix(m_dfs['rating']['metrics'])"
   ]
  },
  {
   "cell_type": "markdown",
   "id": "4f6c1791",
   "metadata": {},
   "source": [
    "#### Histograma AC1"
   ]
  },
  {
   "cell_type": "code",
   "execution_count": 24,
   "id": "6630cb0b",
   "metadata": {},
   "outputs": [
    {
     "name": "stderr",
     "output_type": "stream",
     "text": [
      "/home/linux/Documentos/unb/eps/code/Analytics/venv/lib/python3.8/site-packages/seaborn/distributions.py:2557: FutureWarning: `distplot` is a deprecated function and will be removed in a future version. Please adapt your code to use either `displot` (a figure-level function with similar flexibility) or `histplot` (an axes-level function for histograms).\n",
      "  warnings.warn(msg, FutureWarning)\n"
     ]
    },
    {
     "data": {
      "image/png": "[encoded data removed]",
      "text/plain": [
       "<Figure size 864x864 with 1 Axes>"
      ]
     },
     "metadata": {
      "needs_background": "light"
     },
     "output_type": "display_data"
    }
   ],
   "source": [
    "unique_plot_histogram(m_dfs['rating']['metrics'], \"ac1\")"
   ]
  },
  {
   "cell_type": "markdown",
   "id": "7eb10fa9",
   "metadata": {},
   "source": [
    "#### Box Plot"
   ]
  },
  {
   "cell_type": "code",
   "execution_count": 25,
   "id": "5ae06c7f",
   "metadata": {
    "scrolled": false
   },
   "outputs": [
    {
     "data": {
      "image/png": "[encoded data removed]",
      "text/plain": [
       "<Figure size 864x864 with 1 Axes>"
      ]
     },
     "metadata": {
      "needs_background": "light"
     },
     "output_type": "display_data"
    }
   ],
   "source": [
    "boxplot = m_dfs['rating']['metrics'].boxplot(column=['m1', 'm2', 'm3', 'asc1', 'ac1', 'totalAC1'])"
   ]
  },
  {
   "cell_type": "markdown",
   "id": "052b6d3a",
   "metadata": {},
   "source": [
    "#### Estatística descritiva"
   ]
  },
  {
   "cell_type": "code",
   "execution_count": 26,
   "id": "aae9b1c5",
   "metadata": {},
   "outputs": [
    {
     "data": {
      "text/html": [
       "<div>\n",
       "<style scoped>\n",
       "    .dataframe tbody tr th:only-of-type {\n",
       "        vertical-align: middle;\n",
       "    }\n",
       "\n",
       "    .dataframe tbody tr th {\n",
       "        vertical-align: top;\n",
       "    }\n",
       "\n",
       "    .dataframe thead th {\n",
       "        text-align: right;\n",
       "    }\n",
       "</style>\n",
       "<table border=\"1\" class=\"dataframe\">\n",
       "  <thead>\n",
       "    <tr style=\"text-align: right;\">\n",
       "      <th></th>\n",
       "      <th>m1</th>\n",
       "      <th>m2</th>\n",
       "      <th>m3</th>\n",
       "    </tr>\n",
       "  </thead>\n",
       "  <tbody>\n",
       "    <tr>\n",
       "      <th>mean</th>\n",
       "      <td>0.748834</td>\n",
       "      <td>0.251166</td>\n",
       "      <td>1.0</td>\n",
       "    </tr>\n",
       "    <tr>\n",
       "      <th>mode</th>\n",
       "      <td>0.769231</td>\n",
       "      <td>0.272727</td>\n",
       "      <td>1.0</td>\n",
       "    </tr>\n",
       "    <tr>\n",
       "      <th>25%</th>\n",
       "      <td>0.732955</td>\n",
       "      <td>0.235577</td>\n",
       "      <td>1.0</td>\n",
       "    </tr>\n",
       "    <tr>\n",
       "      <th>50%</th>\n",
       "      <td>0.750000</td>\n",
       "      <td>0.250000</td>\n",
       "      <td>1.0</td>\n",
       "    </tr>\n",
       "    <tr>\n",
       "      <th>75%</th>\n",
       "      <td>0.764423</td>\n",
       "      <td>0.267045</td>\n",
       "      <td>1.0</td>\n",
       "    </tr>\n",
       "    <tr>\n",
       "      <th>standart_deviation</th>\n",
       "      <td>0.018786</td>\n",
       "      <td>0.018786</td>\n",
       "      <td>0.0</td>\n",
       "    </tr>\n",
       "    <tr>\n",
       "      <th>variance</th>\n",
       "      <td>0.000353</td>\n",
       "      <td>0.000353</td>\n",
       "      <td>0.0</td>\n",
       "    </tr>\n",
       "    <tr>\n",
       "      <th>min</th>\n",
       "      <td>0.727273</td>\n",
       "      <td>0.230769</td>\n",
       "      <td>1.0</td>\n",
       "    </tr>\n",
       "    <tr>\n",
       "      <th>max</th>\n",
       "      <td>0.769231</td>\n",
       "      <td>0.272727</td>\n",
       "      <td>1.0</td>\n",
       "    </tr>\n",
       "  </tbody>\n",
       "</table>\n",
       "</div>"
      ],
      "text/plain": [
       "                          m1        m2   m3\n",
       "mean                0.748834  0.251166  1.0\n",
       "mode                0.769231  0.272727  1.0\n",
       "25%                 0.732955  0.235577  1.0\n",
       "50%                 0.750000  0.250000  1.0\n",
       "75%                 0.764423  0.267045  1.0\n",
       "standart_deviation  0.018786  0.018786  0.0\n",
       "variance            0.000353  0.000353  0.0\n",
       "min                 0.727273  0.230769  1.0\n",
       "max                 0.769231  0.272727  1.0"
      ]
     },
     "execution_count": 26,
     "metadata": {},
     "output_type": "execute_result"
    }
   ],
   "source": [
    "m_dfs['rating']['descriptive']"
   ]
  },
  {
   "cell_type": "markdown",
   "id": "6278ffdb",
   "metadata": {},
   "source": [
    "## Métricas de produto"
   ]
  },
  {
   "cell_type": "code",
   "execution_count": 27,
   "id": "b9545343",
   "metadata": {
    "scrolled": false
   },
   "outputs": [
    {
     "data": {
      "text/html": [
       "<div>\n",
       "<style scoped>\n",
       "    .dataframe tbody tr th:only-of-type {\n",
       "        vertical-align: middle;\n",
       "    }\n",
       "\n",
       "    .dataframe tbody tr th {\n",
       "        vertical-align: top;\n",
       "    }\n",
       "\n",
       "    .dataframe thead th {\n",
       "        text-align: right;\n",
       "    }\n",
       "</style>\n",
       "<table border=\"1\" class=\"dataframe\">\n",
       "  <thead>\n",
       "    <tr style=\"text-align: right;\">\n",
       "      <th></th>\n",
       "      <th>data_inicio</th>\n",
       "      <th>data_fim</th>\n",
       "      <th>m7</th>\n",
       "      <th>m9</th>\n",
       "      <th>asc2</th>\n",
       "      <th>totalAC2</th>\n",
       "      <th>no_sprint</th>\n",
       "    </tr>\n",
       "  </thead>\n",
       "  <tbody>\n",
       "    <tr>\n",
       "      <th>sprint 0</th>\n",
       "      <td>02/02/2021</td>\n",
       "      <td>08/02/2021</td>\n",
       "      <td>100.00</td>\n",
       "      <td>85.00</td>\n",
       "      <td>66.944444</td>\n",
       "      <td>92.500</td>\n",
       "      <td>0</td>\n",
       "    </tr>\n",
       "    <tr>\n",
       "      <th>sprint 1</th>\n",
       "      <td>09/02/2021</td>\n",
       "      <td>15/02/2021</td>\n",
       "      <td>100.00</td>\n",
       "      <td>62.50</td>\n",
       "      <td>59.027778</td>\n",
       "      <td>81.250</td>\n",
       "      <td>1</td>\n",
       "    </tr>\n",
       "    <tr>\n",
       "      <th>sprint 2</th>\n",
       "      <td>16/02/2021</td>\n",
       "      <td>22/02/2021</td>\n",
       "      <td>100.00</td>\n",
       "      <td>100.00</td>\n",
       "      <td>72.916667</td>\n",
       "      <td>100.000</td>\n",
       "      <td>2</td>\n",
       "    </tr>\n",
       "    <tr>\n",
       "      <th>sprint 3</th>\n",
       "      <td>23/02/2021</td>\n",
       "      <td>01/03/2021</td>\n",
       "      <td>100.00</td>\n",
       "      <td>110.00</td>\n",
       "      <td>77.222222</td>\n",
       "      <td>105.000</td>\n",
       "      <td>3</td>\n",
       "    </tr>\n",
       "    <tr>\n",
       "      <th>sprint 4</th>\n",
       "      <td>02/03/2021</td>\n",
       "      <td>08/03/2021</td>\n",
       "      <td>100.00</td>\n",
       "      <td>65.00</td>\n",
       "      <td>60.000000</td>\n",
       "      <td>82.500</td>\n",
       "      <td>4</td>\n",
       "    </tr>\n",
       "    <tr>\n",
       "      <th>sprint 5</th>\n",
       "      <td>09/03/2021</td>\n",
       "      <td>15/03/2021</td>\n",
       "      <td>100.00</td>\n",
       "      <td>16.67</td>\n",
       "      <td>45.371667</td>\n",
       "      <td>58.335</td>\n",
       "      <td>5</td>\n",
       "    </tr>\n",
       "    <tr>\n",
       "      <th>sprint 6</th>\n",
       "      <td>16/03/2021</td>\n",
       "      <td>22/03/2021</td>\n",
       "      <td>100.00</td>\n",
       "      <td>58.33</td>\n",
       "      <td>59.721389</td>\n",
       "      <td>79.165</td>\n",
       "      <td>6</td>\n",
       "    </tr>\n",
       "    <tr>\n",
       "      <th>sprint 7</th>\n",
       "      <td>23/03/2021</td>\n",
       "      <td>29/03/2021</td>\n",
       "      <td>100.00</td>\n",
       "      <td>11.11</td>\n",
       "      <td>45.370000</td>\n",
       "      <td>55.555</td>\n",
       "      <td>7</td>\n",
       "    </tr>\n",
       "    <tr>\n",
       "      <th>sprint 8</th>\n",
       "      <td>30/03/2021</td>\n",
       "      <td>05/04/2021</td>\n",
       "      <td>80.00</td>\n",
       "      <td>20.00</td>\n",
       "      <td>41.666667</td>\n",
       "      <td>50.000</td>\n",
       "      <td>8</td>\n",
       "    </tr>\n",
       "    <tr>\n",
       "      <th>sprint 10</th>\n",
       "      <td>14/03/2021</td>\n",
       "      <td>19/04/2021</td>\n",
       "      <td>100.00</td>\n",
       "      <td>16.67</td>\n",
       "      <td>47.223333</td>\n",
       "      <td>58.335</td>\n",
       "      <td>10</td>\n",
       "    </tr>\n",
       "    <tr>\n",
       "      <th>sprint 11</th>\n",
       "      <td>20/04/2021</td>\n",
       "      <td>26/04/2021</td>\n",
       "      <td>33.33</td>\n",
       "      <td>0.00</td>\n",
       "      <td>18.517500</td>\n",
       "      <td>16.665</td>\n",
       "      <td>11</td>\n",
       "    </tr>\n",
       "    <tr>\n",
       "      <th>sprint 12</th>\n",
       "      <td>27/04/2021</td>\n",
       "      <td>03/05/2021</td>\n",
       "      <td>33.33</td>\n",
       "      <td>0.00</td>\n",
       "      <td>16.665556</td>\n",
       "      <td>16.665</td>\n",
       "      <td>12</td>\n",
       "    </tr>\n",
       "    <tr>\n",
       "      <th>sprint 13</th>\n",
       "      <td>04/05/2021</td>\n",
       "      <td>10/05/2021</td>\n",
       "      <td>62.50</td>\n",
       "      <td>93.75</td>\n",
       "      <td>61.805556</td>\n",
       "      <td>78.125</td>\n",
       "      <td>13</td>\n",
       "    </tr>\n",
       "    <tr>\n",
       "      <th>sprint 14</th>\n",
       "      <td>11/05/2021</td>\n",
       "      <td>17/05/2021</td>\n",
       "      <td>15.38</td>\n",
       "      <td>92.31</td>\n",
       "      <td>40.383611</td>\n",
       "      <td>53.845</td>\n",
       "      <td>14</td>\n",
       "    </tr>\n",
       "    <tr>\n",
       "      <th>sprint 15</th>\n",
       "      <td>18/05/2021</td>\n",
       "      <td>24/05/2021</td>\n",
       "      <td>0.00</td>\n",
       "      <td>100.00</td>\n",
       "      <td>38.888889</td>\n",
       "      <td>50.000</td>\n",
       "      <td>15</td>\n",
       "    </tr>\n",
       "  </tbody>\n",
       "</table>\n",
       "</div>"
      ],
      "text/plain": [
       "          data_inicio    data_fim      m7      m9       asc2  totalAC2  \\\n",
       "sprint 0   02/02/2021  08/02/2021  100.00   85.00  66.944444    92.500   \n",
       "sprint 1   09/02/2021  15/02/2021  100.00   62.50  59.027778    81.250   \n",
       "sprint 2   16/02/2021  22/02/2021  100.00  100.00  72.916667   100.000   \n",
       "sprint 3   23/02/2021  01/03/2021  100.00  110.00  77.222222   105.000   \n",
       "sprint 4   02/03/2021  08/03/2021  100.00   65.00  60.000000    82.500   \n",
       "sprint 5   09/03/2021  15/03/2021  100.00   16.67  45.371667    58.335   \n",
       "sprint 6   16/03/2021  22/03/2021  100.00   58.33  59.721389    79.165   \n",
       "sprint 7   23/03/2021  29/03/2021  100.00   11.11  45.370000    55.555   \n",
       "sprint 8   30/03/2021  05/04/2021   80.00   20.00  41.666667    50.000   \n",
       "sprint 10  14/03/2021  19/04/2021  100.00   16.67  47.223333    58.335   \n",
       "sprint 11  20/04/2021  26/04/2021   33.33    0.00  18.517500    16.665   \n",
       "sprint 12  27/04/2021  03/05/2021   33.33    0.00  16.665556    16.665   \n",
       "sprint 13  04/05/2021  10/05/2021   62.50   93.75  61.805556    78.125   \n",
       "sprint 14  11/05/2021  17/05/2021   15.38   92.31  40.383611    53.845   \n",
       "sprint 15  18/05/2021  24/05/2021    0.00  100.00  38.888889    50.000   \n",
       "\n",
       "          no_sprint  \n",
       "sprint 0          0  \n",
       "sprint 1          1  \n",
       "sprint 2          2  \n",
       "sprint 3          3  \n",
       "sprint 4          4  \n",
       "sprint 5          5  \n",
       "sprint 6          6  \n",
       "sprint 7          7  \n",
       "sprint 8          8  \n",
       "sprint 10        10  \n",
       "sprint 11        11  \n",
       "sprint 12        12  \n",
       "sprint 13        13  \n",
       "sprint 14        14  \n",
       "sprint 15        15  "
      ]
     },
     "execution_count": 27,
     "metadata": {},
     "output_type": "execute_result"
    }
   ],
   "source": [
    "issues_dfs['metrics']"
   ]
  },
  {
   "cell_type": "markdown",
   "id": "c85e82a5",
   "metadata": {},
   "source": [
    "### Matriz de correlação"
   ]
  },
  {
   "cell_type": "code",
   "execution_count": 28,
   "id": "0d5c0b83",
   "metadata": {},
   "outputs": [
    {
     "name": "stderr",
     "output_type": "stream",
     "text": [
      "<ipython-input-2-c62a57b12cbd>:16: DeprecationWarning: `np.bool` is a deprecated alias for the builtin `bool`. To silence this warning, use `bool` by itself. Doing this will not modify any behavior and is safe. If you specifically wanted the numpy scalar type, use `np.bool_` here.\n",
      "Deprecated in NumPy 1.20; for more details and guidance: https://numpy.org/devdocs/release/1.20.0-notes.html#deprecations\n",
      "  mask = np.triu(np.ones(corr_matrix.shape)).astype(np.bool)\n"
     ]
    },
    {
     "data": {
      "image/png": "[encoded data removed]",
      "text/plain": [
       "<Figure size 864x864 with 2 Axes>"
      ]
     },
     "metadata": {
      "needs_background": "light"
     },
     "output_type": "display_data"
    }
   ],
   "source": [
    "plot_corr_matrix(issues_dfs['metrics'])"
   ]
  },
  {
   "cell_type": "markdown",
   "id": "04928325",
   "metadata": {},
   "source": [
    "### Histograma"
   ]
  },
  {
   "cell_type": "code",
   "execution_count": 29,
   "id": "f17f2728",
   "metadata": {},
   "outputs": [
    {
     "name": "stderr",
     "output_type": "stream",
     "text": [
      "/home/linux/Documentos/unb/eps/code/Analytics/venv/lib/python3.8/site-packages/seaborn/distributions.py:2557: FutureWarning: `distplot` is a deprecated function and will be removed in a future version. Please adapt your code to use either `displot` (a figure-level function with similar flexibility) or `histplot` (an axes-level function for histograms).\n",
      "  warnings.warn(msg, FutureWarning)\n"
     ]
    },
    {
     "data": {
      "image/png": "[encoded data removed]",
      "text/plain": [
       "<Figure size 864x864 with 1 Axes>"
      ]
     },
     "metadata": {
      "needs_background": "light"
     },
     "output_type": "display_data"
    }
   ],
   "source": [
    "unique_plot_histogram(issues_dfs['metrics'], \"totalAC2\")"
   ]
  },
  {
   "cell_type": "markdown",
   "id": "413e1aec",
   "metadata": {},
   "source": [
    "### Boxplot"
   ]
  },
  {
   "cell_type": "code",
   "execution_count": 30,
   "id": "f0948212",
   "metadata": {},
   "outputs": [
    {
     "data": {
      "image/png": "[encoded data removed]",
      "text/plain": [
       "<Figure size 864x864 with 1 Axes>"
      ]
     },
     "metadata": {
      "needs_background": "light"
     },
     "output_type": "display_data"
    }
   ],
   "source": [
    "boxplot = issues_dfs['metrics'].boxplot(column=['m7', 'm9', 'asc2', 'totalAC2'])"
   ]
  },
  {
   "cell_type": "markdown",
   "id": "ca3b62db",
   "metadata": {},
   "source": [
    "### Estatística descritiva"
   ]
  },
  {
   "cell_type": "code",
   "execution_count": 31,
   "id": "f923c19d",
   "metadata": {},
   "outputs": [
    {
     "data": {
      "text/html": [
       "<div>\n",
       "<style scoped>\n",
       "    .dataframe tbody tr th:only-of-type {\n",
       "        vertical-align: middle;\n",
       "    }\n",
       "\n",
       "    .dataframe tbody tr th {\n",
       "        vertical-align: top;\n",
       "    }\n",
       "\n",
       "    .dataframe thead th {\n",
       "        text-align: right;\n",
       "    }\n",
       "</style>\n",
       "<table border=\"1\" class=\"dataframe\">\n",
       "  <thead>\n",
       "    <tr style=\"text-align: right;\">\n",
       "      <th></th>\n",
       "      <th>m7</th>\n",
       "      <th>m9</th>\n",
       "    </tr>\n",
       "  </thead>\n",
       "  <tbody>\n",
       "    <tr>\n",
       "      <th>mean</th>\n",
       "      <td>74.969333</td>\n",
       "      <td>55.422667</td>\n",
       "    </tr>\n",
       "    <tr>\n",
       "      <th>mode</th>\n",
       "      <td>100.000000</td>\n",
       "      <td>100.000000</td>\n",
       "    </tr>\n",
       "    <tr>\n",
       "      <th>25%</th>\n",
       "      <td>47.915000</td>\n",
       "      <td>16.670000</td>\n",
       "    </tr>\n",
       "    <tr>\n",
       "      <th>50%</th>\n",
       "      <td>100.000000</td>\n",
       "      <td>62.500000</td>\n",
       "    </tr>\n",
       "    <tr>\n",
       "      <th>75%</th>\n",
       "      <td>100.000000</td>\n",
       "      <td>93.030000</td>\n",
       "    </tr>\n",
       "    <tr>\n",
       "      <th>standart_deviation</th>\n",
       "      <td>36.310721</td>\n",
       "      <td>40.684296</td>\n",
       "    </tr>\n",
       "    <tr>\n",
       "      <th>variance</th>\n",
       "      <td>1318.468435</td>\n",
       "      <td>1655.211978</td>\n",
       "    </tr>\n",
       "    <tr>\n",
       "      <th>min</th>\n",
       "      <td>0.000000</td>\n",
       "      <td>0.000000</td>\n",
       "    </tr>\n",
       "    <tr>\n",
       "      <th>max</th>\n",
       "      <td>100.000000</td>\n",
       "      <td>110.000000</td>\n",
       "    </tr>\n",
       "  </tbody>\n",
       "</table>\n",
       "</div>"
      ],
      "text/plain": [
       "                             m7           m9\n",
       "mean                  74.969333    55.422667\n",
       "mode                 100.000000   100.000000\n",
       "25%                   47.915000    16.670000\n",
       "50%                  100.000000    62.500000\n",
       "75%                  100.000000    93.030000\n",
       "standart_deviation    36.310721    40.684296\n",
       "variance            1318.468435  1655.211978\n",
       "min                    0.000000     0.000000\n",
       "max                  100.000000   110.000000"
      ]
     },
     "execution_count": 31,
     "metadata": {},
     "output_type": "execute_result"
    }
   ],
   "source": [
    "issues_dfs['descriptive']"
   ]
  },
  {
   "cell_type": "markdown",
   "id": "279a4e96",
   "metadata": {},
   "source": [
    "### Gráfico de barras totalAC2"
   ]
  },
  {
   "cell_type": "code",
   "execution_count": 32,
   "id": "53ed3f7f",
   "metadata": {
    "scrolled": false
   },
   "outputs": [
    {
     "data": {
      "image/png": "[encoded data removed]",
      "text/plain": [
       "<Figure size 864x864 with 1 Axes>"
      ]
     },
     "metadata": {
      "needs_background": "light"
     },
     "output_type": "display_data"
    }
   ],
   "source": [
    "ax = issues_dfs['metrics']['totalAC2'].plot.bar(rot=0)"
   ]
  },
  {
   "cell_type": "markdown",
   "id": "f042f037",
   "metadata": {},
   "source": [
    "## Dataframe de métricas m8"
   ]
  },
  {
   "cell_type": "code",
   "execution_count": 33,
   "id": "1d23cc96",
   "metadata": {
    "scrolled": false
   },
   "outputs": [
    {
     "data": {
      "text/html": [
       "<div>\n",
       "<style scoped>\n",
       "    .dataframe tbody tr th:only-of-type {\n",
       "        vertical-align: middle;\n",
       "    }\n",
       "\n",
       "    .dataframe tbody tr th {\n",
       "        vertical-align: top;\n",
       "    }\n",
       "\n",
       "    .dataframe thead th {\n",
       "        text-align: right;\n",
       "    }\n",
       "</style>\n",
       "<table border=\"1\" class=\"dataframe\">\n",
       "  <thead>\n",
       "    <tr style=\"text-align: right;\">\n",
       "      <th></th>\n",
       "      <th>hotfix</th>\n",
       "      <th>docs</th>\n",
       "      <th>feature</th>\n",
       "      <th>arq</th>\n",
       "      <th>devops</th>\n",
       "      <th>analytics</th>\n",
       "      <th>us</th>\n",
       "      <th>easy</th>\n",
       "      <th>medium</th>\n",
       "      <th>hard</th>\n",
       "      <th>eps</th>\n",
       "      <th>mds</th>\n",
       "    </tr>\n",
       "  </thead>\n",
       "  <tbody>\n",
       "    <tr>\n",
       "      <th>sprint 0</th>\n",
       "      <td>0.00</td>\n",
       "      <td>85.00</td>\n",
       "      <td>0.00</td>\n",
       "      <td>0.0</td>\n",
       "      <td>0.00</td>\n",
       "      <td>0.00</td>\n",
       "      <td>0.00</td>\n",
       "      <td>0.00</td>\n",
       "      <td>0.00</td>\n",
       "      <td>0.00</td>\n",
       "      <td>90.00</td>\n",
       "      <td>15.00</td>\n",
       "    </tr>\n",
       "    <tr>\n",
       "      <th>sprint 1</th>\n",
       "      <td>0.00</td>\n",
       "      <td>62.50</td>\n",
       "      <td>0.00</td>\n",
       "      <td>0.0</td>\n",
       "      <td>0.00</td>\n",
       "      <td>0.00</td>\n",
       "      <td>0.00</td>\n",
       "      <td>0.00</td>\n",
       "      <td>0.00</td>\n",
       "      <td>0.00</td>\n",
       "      <td>87.50</td>\n",
       "      <td>25.00</td>\n",
       "    </tr>\n",
       "    <tr>\n",
       "      <th>sprint 2</th>\n",
       "      <td>0.00</td>\n",
       "      <td>100.00</td>\n",
       "      <td>0.00</td>\n",
       "      <td>0.0</td>\n",
       "      <td>0.00</td>\n",
       "      <td>0.00</td>\n",
       "      <td>0.00</td>\n",
       "      <td>0.00</td>\n",
       "      <td>0.00</td>\n",
       "      <td>0.00</td>\n",
       "      <td>100.00</td>\n",
       "      <td>25.00</td>\n",
       "    </tr>\n",
       "    <tr>\n",
       "      <th>sprint 3</th>\n",
       "      <td>0.00</td>\n",
       "      <td>70.00</td>\n",
       "      <td>0.00</td>\n",
       "      <td>10.0</td>\n",
       "      <td>30.00</td>\n",
       "      <td>0.00</td>\n",
       "      <td>0.00</td>\n",
       "      <td>0.00</td>\n",
       "      <td>0.00</td>\n",
       "      <td>0.00</td>\n",
       "      <td>90.00</td>\n",
       "      <td>60.00</td>\n",
       "    </tr>\n",
       "    <tr>\n",
       "      <th>sprint 4</th>\n",
       "      <td>0.00</td>\n",
       "      <td>35.00</td>\n",
       "      <td>0.00</td>\n",
       "      <td>10.0</td>\n",
       "      <td>20.00</td>\n",
       "      <td>0.00</td>\n",
       "      <td>0.00</td>\n",
       "      <td>0.00</td>\n",
       "      <td>0.00</td>\n",
       "      <td>0.00</td>\n",
       "      <td>70.00</td>\n",
       "      <td>45.00</td>\n",
       "    </tr>\n",
       "    <tr>\n",
       "      <th>sprint 5</th>\n",
       "      <td>0.00</td>\n",
       "      <td>0.00</td>\n",
       "      <td>0.00</td>\n",
       "      <td>0.0</td>\n",
       "      <td>16.67</td>\n",
       "      <td>0.00</td>\n",
       "      <td>66.67</td>\n",
       "      <td>16.67</td>\n",
       "      <td>33.33</td>\n",
       "      <td>0.00</td>\n",
       "      <td>33.33</td>\n",
       "      <td>66.67</td>\n",
       "    </tr>\n",
       "    <tr>\n",
       "      <th>sprint 6</th>\n",
       "      <td>0.00</td>\n",
       "      <td>16.67</td>\n",
       "      <td>25.00</td>\n",
       "      <td>0.0</td>\n",
       "      <td>16.67</td>\n",
       "      <td>0.00</td>\n",
       "      <td>41.67</td>\n",
       "      <td>8.33</td>\n",
       "      <td>66.67</td>\n",
       "      <td>0.00</td>\n",
       "      <td>33.33</td>\n",
       "      <td>41.67</td>\n",
       "    </tr>\n",
       "    <tr>\n",
       "      <th>sprint 7</th>\n",
       "      <td>33.33</td>\n",
       "      <td>11.11</td>\n",
       "      <td>0.00</td>\n",
       "      <td>0.0</td>\n",
       "      <td>0.00</td>\n",
       "      <td>0.00</td>\n",
       "      <td>55.56</td>\n",
       "      <td>44.44</td>\n",
       "      <td>55.56</td>\n",
       "      <td>0.00</td>\n",
       "      <td>11.11</td>\n",
       "      <td>88.89</td>\n",
       "    </tr>\n",
       "    <tr>\n",
       "      <th>sprint 8</th>\n",
       "      <td>0.00</td>\n",
       "      <td>0.00</td>\n",
       "      <td>0.00</td>\n",
       "      <td>0.0</td>\n",
       "      <td>0.00</td>\n",
       "      <td>20.00</td>\n",
       "      <td>80.00</td>\n",
       "      <td>0.00</td>\n",
       "      <td>80.00</td>\n",
       "      <td>20.00</td>\n",
       "      <td>20.00</td>\n",
       "      <td>80.00</td>\n",
       "    </tr>\n",
       "    <tr>\n",
       "      <th>sprint 10</th>\n",
       "      <td>0.00</td>\n",
       "      <td>16.67</td>\n",
       "      <td>0.00</td>\n",
       "      <td>0.0</td>\n",
       "      <td>0.00</td>\n",
       "      <td>0.00</td>\n",
       "      <td>83.33</td>\n",
       "      <td>33.33</td>\n",
       "      <td>66.67</td>\n",
       "      <td>0.00</td>\n",
       "      <td>16.67</td>\n",
       "      <td>83.33</td>\n",
       "    </tr>\n",
       "    <tr>\n",
       "      <th>sprint 11</th>\n",
       "      <td>0.00</td>\n",
       "      <td>0.00</td>\n",
       "      <td>0.00</td>\n",
       "      <td>0.0</td>\n",
       "      <td>0.00</td>\n",
       "      <td>0.00</td>\n",
       "      <td>83.33</td>\n",
       "      <td>0.00</td>\n",
       "      <td>50.00</td>\n",
       "      <td>50.00</td>\n",
       "      <td>16.67</td>\n",
       "      <td>66.67</td>\n",
       "    </tr>\n",
       "    <tr>\n",
       "      <th>sprint 12</th>\n",
       "      <td>0.00</td>\n",
       "      <td>0.00</td>\n",
       "      <td>0.00</td>\n",
       "      <td>0.0</td>\n",
       "      <td>0.00</td>\n",
       "      <td>0.00</td>\n",
       "      <td>0.00</td>\n",
       "      <td>0.00</td>\n",
       "      <td>100.00</td>\n",
       "      <td>0.00</td>\n",
       "      <td>0.00</td>\n",
       "      <td>100.00</td>\n",
       "    </tr>\n",
       "    <tr>\n",
       "      <th>sprint 13</th>\n",
       "      <td>0.00</td>\n",
       "      <td>6.25</td>\n",
       "      <td>0.00</td>\n",
       "      <td>0.0</td>\n",
       "      <td>12.50</td>\n",
       "      <td>75.00</td>\n",
       "      <td>0.00</td>\n",
       "      <td>0.00</td>\n",
       "      <td>81.25</td>\n",
       "      <td>18.75</td>\n",
       "      <td>93.75</td>\n",
       "      <td>62.50</td>\n",
       "    </tr>\n",
       "    <tr>\n",
       "      <th>sprint 14</th>\n",
       "      <td>0.00</td>\n",
       "      <td>23.08</td>\n",
       "      <td>53.85</td>\n",
       "      <td>0.0</td>\n",
       "      <td>0.00</td>\n",
       "      <td>15.38</td>\n",
       "      <td>0.00</td>\n",
       "      <td>15.38</td>\n",
       "      <td>15.38</td>\n",
       "      <td>0.00</td>\n",
       "      <td>7.69</td>\n",
       "      <td>30.77</td>\n",
       "    </tr>\n",
       "    <tr>\n",
       "      <th>sprint 15</th>\n",
       "      <td>0.00</td>\n",
       "      <td>100.00</td>\n",
       "      <td>0.00</td>\n",
       "      <td>0.0</td>\n",
       "      <td>0.00</td>\n",
       "      <td>0.00</td>\n",
       "      <td>0.00</td>\n",
       "      <td>0.00</td>\n",
       "      <td>0.00</td>\n",
       "      <td>0.00</td>\n",
       "      <td>100.00</td>\n",
       "      <td>0.00</td>\n",
       "    </tr>\n",
       "  </tbody>\n",
       "</table>\n",
       "</div>"
      ],
      "text/plain": [
       "           hotfix    docs  feature   arq  devops  analytics     us   easy  \\\n",
       "sprint 0     0.00   85.00     0.00   0.0    0.00       0.00   0.00   0.00   \n",
       "sprint 1     0.00   62.50     0.00   0.0    0.00       0.00   0.00   0.00   \n",
       "sprint 2     0.00  100.00     0.00   0.0    0.00       0.00   0.00   0.00   \n",
       "sprint 3     0.00   70.00     0.00  10.0   30.00       0.00   0.00   0.00   \n",
       "sprint 4     0.00   35.00     0.00  10.0   20.00       0.00   0.00   0.00   \n",
       "sprint 5     0.00    0.00     0.00   0.0   16.67       0.00  66.67  16.67   \n",
       "sprint 6     0.00   16.67    25.00   0.0   16.67       0.00  41.67   8.33   \n",
       "sprint 7    33.33   11.11     0.00   0.0    0.00       0.00  55.56  44.44   \n",
       "sprint 8     0.00    0.00     0.00   0.0    0.00      20.00  80.00   0.00   \n",
       "sprint 10    0.00   16.67     0.00   0.0    0.00       0.00  83.33  33.33   \n",
       "sprint 11    0.00    0.00     0.00   0.0    0.00       0.00  83.33   0.00   \n",
       "sprint 12    0.00    0.00     0.00   0.0    0.00       0.00   0.00   0.00   \n",
       "sprint 13    0.00    6.25     0.00   0.0   12.50      75.00   0.00   0.00   \n",
       "sprint 14    0.00   23.08    53.85   0.0    0.00      15.38   0.00  15.38   \n",
       "sprint 15    0.00  100.00     0.00   0.0    0.00       0.00   0.00   0.00   \n",
       "\n",
       "           medium   hard     eps     mds  \n",
       "sprint 0     0.00   0.00   90.00   15.00  \n",
       "sprint 1     0.00   0.00   87.50   25.00  \n",
       "sprint 2     0.00   0.00  100.00   25.00  \n",
       "sprint 3     0.00   0.00   90.00   60.00  \n",
       "sprint 4     0.00   0.00   70.00   45.00  \n",
       "sprint 5    33.33   0.00   33.33   66.67  \n",
       "sprint 6    66.67   0.00   33.33   41.67  \n",
       "sprint 7    55.56   0.00   11.11   88.89  \n",
       "sprint 8    80.00  20.00   20.00   80.00  \n",
       "sprint 10   66.67   0.00   16.67   83.33  \n",
       "sprint 11   50.00  50.00   16.67   66.67  \n",
       "sprint 12  100.00   0.00    0.00  100.00  \n",
       "sprint 13   81.25  18.75   93.75   62.50  \n",
       "sprint 14   15.38   0.00    7.69   30.77  \n",
       "sprint 15    0.00   0.00  100.00    0.00  "
      ]
     },
     "execution_count": 33,
     "metadata": {},
     "output_type": "execute_result"
    }
   ],
   "source": [
    "issues_dfs['m8']"
   ]
  }
 ],
 "metadata": {
  "kernelspec": {
   "display_name": "eps",
   "language": "python",
   "name": "venv"
  },
  "language_info": {
   "codemirror_mode": {
    "name": "ipython",
    "version": 3
   },
   "file_extension": ".py",
   "mimetype": "text/x-python",
   "name": "python",
   "nbconvert_exporter": "python",
   "pygments_lexer": "ipython3",
   "version": "3.8.5"
  }
 },
 "nbformat": 4,
 "nbformat_minor": 5
}
